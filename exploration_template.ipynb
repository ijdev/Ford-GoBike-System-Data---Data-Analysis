{
 "cells": [
  {
   "cell_type": "markdown",
   "metadata": {},
   "source": [
    "# (Ford GoBike System Data)\n",
    "## by (Ibrahem Aljenaidel)\n",
    "## Table of Contents\n",
    "<ul>\n",
    "<li><a href=\"#intro\">Introduction</a></li>\n",
    "<li><a href=\"#ws\">Data Wrangling</a></li>\n",
    "<li><a href=\"#ui\">Univariate Exploration</a></li>\n",
    "<li><a href=\"#bi\">Bivariate Exploration</a></li>\n",
    "<li><a href=\"#wi\">Multivariate Exploration</a></li>\n",
    "\n",
    "</ul>\n"
   ]
  },
  {
   "cell_type": "markdown",
   "metadata": {},
   "source": [
    "<a id='intro'></a>\n",
    "\n",
    "> This data set includes information about individual rides made in a bike-sharing system covering the greater San Francisco Bay area."
   ]
  },
  {
   "cell_type": "code",
   "execution_count": 424,
   "metadata": {},
   "outputs": [],
   "source": [
    "# import all packages and set plots to be embedded inline\n",
    "import numpy as np\n",
    "import pandas as pd\n",
    "import matplotlib.pyplot as plt\n",
    "import seaborn as sb\n",
    "from datetime import datetime\n",
    "\n",
    "%matplotlib inline"
   ]
  },
  {
   "cell_type": "code",
   "execution_count": 425,
   "metadata": {},
   "outputs": [],
   "source": [
    "df = pd.read_csv('data.csv')"
   ]
  },
  {
   "cell_type": "code",
   "execution_count": 426,
   "metadata": {},
   "outputs": [
    {
     "data": {
      "text/plain": [
       "array(['Male', 'Female', nan, 'Other'], dtype=object)"
      ]
     },
     "execution_count": 426,
     "metadata": {},
     "output_type": "execute_result"
    }
   ],
   "source": [
    "df.member_gender.unique()"
   ]
  },
  {
   "cell_type": "code",
   "execution_count": 427,
   "metadata": {
    "scrolled": false
   },
   "outputs": [
    {
     "name": "stdout",
     "output_type": "stream",
     "text": [
      "(519700, 15)\n",
      "duration_sec                 int64\n",
      "start_time                  object\n",
      "end_time                    object\n",
      "start_station_id             int64\n",
      "start_station_name          object\n",
      "start_station_latitude     float64\n",
      "start_station_longitude    float64\n",
      "end_station_id               int64\n",
      "end_station_name            object\n",
      "end_station_latitude       float64\n",
      "end_station_longitude      float64\n",
      "bike_id                      int64\n",
      "user_type                   object\n",
      "member_birth_year          float64\n",
      "member_gender               object\n",
      "dtype: object\n"
     ]
    }
   ],
   "source": [
    "# overview of the strcture\n",
    "print(df.shape)\n",
    "print(df.dtypes)"
   ]
  },
  {
   "cell_type": "code",
   "execution_count": 428,
   "metadata": {
    "scrolled": true
   },
   "outputs": [
    {
     "data": {
      "text/html": [
       "<div>\n",
       "<style scoped>\n",
       "    .dataframe tbody tr th:only-of-type {\n",
       "        vertical-align: middle;\n",
       "    }\n",
       "\n",
       "    .dataframe tbody tr th {\n",
       "        vertical-align: top;\n",
       "    }\n",
       "\n",
       "    .dataframe thead th {\n",
       "        text-align: right;\n",
       "    }\n",
       "</style>\n",
       "<table border=\"1\" class=\"dataframe\">\n",
       "  <thead>\n",
       "    <tr style=\"text-align: right;\">\n",
       "      <th></th>\n",
       "      <th>duration_sec</th>\n",
       "      <th>start_time</th>\n",
       "      <th>end_time</th>\n",
       "      <th>start_station_id</th>\n",
       "      <th>start_station_name</th>\n",
       "      <th>start_station_latitude</th>\n",
       "      <th>start_station_longitude</th>\n",
       "      <th>end_station_id</th>\n",
       "      <th>end_station_name</th>\n",
       "      <th>end_station_latitude</th>\n",
       "      <th>end_station_longitude</th>\n",
       "      <th>bike_id</th>\n",
       "      <th>user_type</th>\n",
       "      <th>member_birth_year</th>\n",
       "      <th>member_gender</th>\n",
       "    </tr>\n",
       "  </thead>\n",
       "  <tbody>\n",
       "    <tr>\n",
       "      <th>0</th>\n",
       "      <td>80110</td>\n",
       "      <td>2017-12-31 16:57:39.6540</td>\n",
       "      <td>2018-01-01 15:12:50.2450</td>\n",
       "      <td>74</td>\n",
       "      <td>Laguna St at Hayes St</td>\n",
       "      <td>37.776435</td>\n",
       "      <td>-122.426244</td>\n",
       "      <td>43</td>\n",
       "      <td>San Francisco Public Library (Grove St at Hyde...</td>\n",
       "      <td>37.778768</td>\n",
       "      <td>-122.415929</td>\n",
       "      <td>96</td>\n",
       "      <td>Customer</td>\n",
       "      <td>1987.0</td>\n",
       "      <td>Male</td>\n",
       "    </tr>\n",
       "    <tr>\n",
       "      <th>1</th>\n",
       "      <td>78800</td>\n",
       "      <td>2017-12-31 15:56:34.8420</td>\n",
       "      <td>2018-01-01 13:49:55.6170</td>\n",
       "      <td>284</td>\n",
       "      <td>Yerba Buena Center for the Arts (Howard St at ...</td>\n",
       "      <td>37.784872</td>\n",
       "      <td>-122.400876</td>\n",
       "      <td>96</td>\n",
       "      <td>Dolores St at 15th St</td>\n",
       "      <td>37.766210</td>\n",
       "      <td>-122.426614</td>\n",
       "      <td>88</td>\n",
       "      <td>Customer</td>\n",
       "      <td>1965.0</td>\n",
       "      <td>Female</td>\n",
       "    </tr>\n",
       "    <tr>\n",
       "      <th>2</th>\n",
       "      <td>45768</td>\n",
       "      <td>2017-12-31 22:45:48.4110</td>\n",
       "      <td>2018-01-01 11:28:36.8830</td>\n",
       "      <td>245</td>\n",
       "      <td>Downtown Berkeley BART</td>\n",
       "      <td>37.870348</td>\n",
       "      <td>-122.267764</td>\n",
       "      <td>245</td>\n",
       "      <td>Downtown Berkeley BART</td>\n",
       "      <td>37.870348</td>\n",
       "      <td>-122.267764</td>\n",
       "      <td>1094</td>\n",
       "      <td>Customer</td>\n",
       "      <td>NaN</td>\n",
       "      <td>NaN</td>\n",
       "    </tr>\n",
       "    <tr>\n",
       "      <th>3</th>\n",
       "      <td>62172</td>\n",
       "      <td>2017-12-31 17:31:10.6360</td>\n",
       "      <td>2018-01-01 10:47:23.5310</td>\n",
       "      <td>60</td>\n",
       "      <td>8th St at Ringold St</td>\n",
       "      <td>37.774520</td>\n",
       "      <td>-122.409449</td>\n",
       "      <td>5</td>\n",
       "      <td>Powell St BART Station (Market St at 5th St)</td>\n",
       "      <td>37.783899</td>\n",
       "      <td>-122.408445</td>\n",
       "      <td>2831</td>\n",
       "      <td>Customer</td>\n",
       "      <td>NaN</td>\n",
       "      <td>NaN</td>\n",
       "    </tr>\n",
       "    <tr>\n",
       "      <th>4</th>\n",
       "      <td>43603</td>\n",
       "      <td>2017-12-31 14:23:14.0010</td>\n",
       "      <td>2018-01-01 02:29:57.5710</td>\n",
       "      <td>239</td>\n",
       "      <td>Bancroft Way at Telegraph Ave</td>\n",
       "      <td>37.868813</td>\n",
       "      <td>-122.258764</td>\n",
       "      <td>247</td>\n",
       "      <td>Fulton St at Bancroft Way</td>\n",
       "      <td>37.867789</td>\n",
       "      <td>-122.265896</td>\n",
       "      <td>3167</td>\n",
       "      <td>Subscriber</td>\n",
       "      <td>1997.0</td>\n",
       "      <td>Female</td>\n",
       "    </tr>\n",
       "  </tbody>\n",
       "</table>\n",
       "</div>"
      ],
      "text/plain": [
       "   duration_sec                start_time                  end_time  \\\n",
       "0         80110  2017-12-31 16:57:39.6540  2018-01-01 15:12:50.2450   \n",
       "1         78800  2017-12-31 15:56:34.8420  2018-01-01 13:49:55.6170   \n",
       "2         45768  2017-12-31 22:45:48.4110  2018-01-01 11:28:36.8830   \n",
       "3         62172  2017-12-31 17:31:10.6360  2018-01-01 10:47:23.5310   \n",
       "4         43603  2017-12-31 14:23:14.0010  2018-01-01 02:29:57.5710   \n",
       "\n",
       "   start_station_id                                 start_station_name  \\\n",
       "0                74                              Laguna St at Hayes St   \n",
       "1               284  Yerba Buena Center for the Arts (Howard St at ...   \n",
       "2               245                             Downtown Berkeley BART   \n",
       "3                60                               8th St at Ringold St   \n",
       "4               239                      Bancroft Way at Telegraph Ave   \n",
       "\n",
       "   start_station_latitude  start_station_longitude  end_station_id  \\\n",
       "0               37.776435              -122.426244              43   \n",
       "1               37.784872              -122.400876              96   \n",
       "2               37.870348              -122.267764             245   \n",
       "3               37.774520              -122.409449               5   \n",
       "4               37.868813              -122.258764             247   \n",
       "\n",
       "                                    end_station_name  end_station_latitude  \\\n",
       "0  San Francisco Public Library (Grove St at Hyde...             37.778768   \n",
       "1                              Dolores St at 15th St             37.766210   \n",
       "2                             Downtown Berkeley BART             37.870348   \n",
       "3       Powell St BART Station (Market St at 5th St)             37.783899   \n",
       "4                          Fulton St at Bancroft Way             37.867789   \n",
       "\n",
       "   end_station_longitude  bike_id   user_type  member_birth_year member_gender  \n",
       "0            -122.415929       96    Customer             1987.0          Male  \n",
       "1            -122.426614       88    Customer             1965.0        Female  \n",
       "2            -122.267764     1094    Customer                NaN           NaN  \n",
       "3            -122.408445     2831    Customer                NaN           NaN  \n",
       "4            -122.265896     3167  Subscriber             1997.0        Female  "
      ]
     },
     "execution_count": 428,
     "metadata": {},
     "output_type": "execute_result"
    }
   ],
   "source": [
    "df.head()"
   ]
  },
  {
   "cell_type": "code",
   "execution_count": 429,
   "metadata": {
    "scrolled": true
   },
   "outputs": [
    {
     "data": {
      "text/html": [
       "<div>\n",
       "<style scoped>\n",
       "    .dataframe tbody tr th:only-of-type {\n",
       "        vertical-align: middle;\n",
       "    }\n",
       "\n",
       "    .dataframe tbody tr th {\n",
       "        vertical-align: top;\n",
       "    }\n",
       "\n",
       "    .dataframe thead th {\n",
       "        text-align: right;\n",
       "    }\n",
       "</style>\n",
       "<table border=\"1\" class=\"dataframe\">\n",
       "  <thead>\n",
       "    <tr style=\"text-align: right;\">\n",
       "      <th></th>\n",
       "      <th>duration_sec</th>\n",
       "      <th>start_station_id</th>\n",
       "      <th>start_station_latitude</th>\n",
       "      <th>start_station_longitude</th>\n",
       "      <th>end_station_id</th>\n",
       "      <th>end_station_latitude</th>\n",
       "      <th>end_station_longitude</th>\n",
       "      <th>bike_id</th>\n",
       "      <th>member_birth_year</th>\n",
       "    </tr>\n",
       "  </thead>\n",
       "  <tbody>\n",
       "    <tr>\n",
       "      <th>count</th>\n",
       "      <td>519700.000000</td>\n",
       "      <td>519700.000000</td>\n",
       "      <td>519700.000000</td>\n",
       "      <td>519700.000000</td>\n",
       "      <td>519700.000000</td>\n",
       "      <td>519700.000000</td>\n",
       "      <td>519700.000000</td>\n",
       "      <td>519700.000000</td>\n",
       "      <td>453159.000000</td>\n",
       "    </tr>\n",
       "    <tr>\n",
       "      <th>mean</th>\n",
       "      <td>1099.009521</td>\n",
       "      <td>95.034245</td>\n",
       "      <td>37.771653</td>\n",
       "      <td>-122.363927</td>\n",
       "      <td>92.184041</td>\n",
       "      <td>37.771844</td>\n",
       "      <td>-122.363236</td>\n",
       "      <td>1672.533079</td>\n",
       "      <td>1980.404787</td>\n",
       "    </tr>\n",
       "    <tr>\n",
       "      <th>std</th>\n",
       "      <td>3444.146451</td>\n",
       "      <td>86.083078</td>\n",
       "      <td>0.086305</td>\n",
       "      <td>0.105573</td>\n",
       "      <td>84.969491</td>\n",
       "      <td>0.086224</td>\n",
       "      <td>0.105122</td>\n",
       "      <td>971.356959</td>\n",
       "      <td>10.513488</td>\n",
       "    </tr>\n",
       "    <tr>\n",
       "      <th>min</th>\n",
       "      <td>61.000000</td>\n",
       "      <td>3.000000</td>\n",
       "      <td>37.317298</td>\n",
       "      <td>-122.444293</td>\n",
       "      <td>3.000000</td>\n",
       "      <td>37.317298</td>\n",
       "      <td>-122.444293</td>\n",
       "      <td>10.000000</td>\n",
       "      <td>1886.000000</td>\n",
       "    </tr>\n",
       "    <tr>\n",
       "      <th>25%</th>\n",
       "      <td>382.000000</td>\n",
       "      <td>24.000000</td>\n",
       "      <td>37.773492</td>\n",
       "      <td>-122.411726</td>\n",
       "      <td>23.000000</td>\n",
       "      <td>37.774520</td>\n",
       "      <td>-122.410345</td>\n",
       "      <td>787.000000</td>\n",
       "      <td>1974.000000</td>\n",
       "    </tr>\n",
       "    <tr>\n",
       "      <th>50%</th>\n",
       "      <td>596.000000</td>\n",
       "      <td>67.000000</td>\n",
       "      <td>37.783521</td>\n",
       "      <td>-122.398870</td>\n",
       "      <td>66.000000</td>\n",
       "      <td>37.783830</td>\n",
       "      <td>-122.398525</td>\n",
       "      <td>1728.500000</td>\n",
       "      <td>1983.000000</td>\n",
       "    </tr>\n",
       "    <tr>\n",
       "      <th>75%</th>\n",
       "      <td>938.000000</td>\n",
       "      <td>139.000000</td>\n",
       "      <td>37.795392</td>\n",
       "      <td>-122.391034</td>\n",
       "      <td>134.000000</td>\n",
       "      <td>37.795392</td>\n",
       "      <td>-122.391034</td>\n",
       "      <td>2520.000000</td>\n",
       "      <td>1988.000000</td>\n",
       "    </tr>\n",
       "    <tr>\n",
       "      <th>max</th>\n",
       "      <td>86369.000000</td>\n",
       "      <td>340.000000</td>\n",
       "      <td>37.880222</td>\n",
       "      <td>-121.874119</td>\n",
       "      <td>340.000000</td>\n",
       "      <td>37.880222</td>\n",
       "      <td>-121.874119</td>\n",
       "      <td>3733.000000</td>\n",
       "      <td>1999.000000</td>\n",
       "    </tr>\n",
       "  </tbody>\n",
       "</table>\n",
       "</div>"
      ],
      "text/plain": [
       "        duration_sec  start_station_id  start_station_latitude  \\\n",
       "count  519700.000000     519700.000000           519700.000000   \n",
       "mean     1099.009521         95.034245               37.771653   \n",
       "std      3444.146451         86.083078                0.086305   \n",
       "min        61.000000          3.000000               37.317298   \n",
       "25%       382.000000         24.000000               37.773492   \n",
       "50%       596.000000         67.000000               37.783521   \n",
       "75%       938.000000        139.000000               37.795392   \n",
       "max     86369.000000        340.000000               37.880222   \n",
       "\n",
       "       start_station_longitude  end_station_id  end_station_latitude  \\\n",
       "count            519700.000000   519700.000000         519700.000000   \n",
       "mean               -122.363927       92.184041             37.771844   \n",
       "std                   0.105573       84.969491              0.086224   \n",
       "min                -122.444293        3.000000             37.317298   \n",
       "25%                -122.411726       23.000000             37.774520   \n",
       "50%                -122.398870       66.000000             37.783830   \n",
       "75%                -122.391034      134.000000             37.795392   \n",
       "max                -121.874119      340.000000             37.880222   \n",
       "\n",
       "       end_station_longitude        bike_id  member_birth_year  \n",
       "count          519700.000000  519700.000000      453159.000000  \n",
       "mean             -122.363236    1672.533079        1980.404787  \n",
       "std                 0.105122     971.356959          10.513488  \n",
       "min              -122.444293      10.000000        1886.000000  \n",
       "25%              -122.410345     787.000000        1974.000000  \n",
       "50%              -122.398525    1728.500000        1983.000000  \n",
       "75%              -122.391034    2520.000000        1988.000000  \n",
       "max              -121.874119    3733.000000        1999.000000  "
      ]
     },
     "execution_count": 429,
     "metadata": {},
     "output_type": "execute_result"
    }
   ],
   "source": [
    "df.describe()"
   ]
  },
  {
   "cell_type": "code",
   "execution_count": 432,
   "metadata": {},
   "outputs": [
    {
     "name": "stdout",
     "output_type": "stream",
     "text": [
      "287       1900.0\n",
      "1751      1900.0\n",
      "3119      1900.0\n",
      "3259      1900.0\n",
      "5246      1900.0\n",
      "7183      1902.0\n",
      "8077      1902.0\n",
      "9838      1900.0\n",
      "10712     1900.0\n",
      "13035     1900.0\n",
      "14777     1924.0\n",
      "14779     1900.0\n",
      "15146     1902.0\n",
      "15333     1928.0\n",
      "15948     1900.0\n",
      "16001     1900.0\n",
      "16466     1902.0\n",
      "16977     1902.0\n",
      "16980     1924.0\n",
      "18074     1900.0\n",
      "18367     1902.0\n",
      "19981     1902.0\n",
      "20347     1902.0\n",
      "20411     1924.0\n",
      "21583     1924.0\n",
      "21678     1900.0\n",
      "21905     1900.0\n",
      "22517     1928.0\n",
      "22825     1928.0\n",
      "24051     1924.0\n",
      "           ...  \n",
      "497562    1902.0\n",
      "498254    1902.0\n",
      "498484    1902.0\n",
      "498964    1902.0\n",
      "499339    1902.0\n",
      "499968    1902.0\n",
      "500030    1902.0\n",
      "503584    1902.0\n",
      "504683    1902.0\n",
      "505380    1902.0\n",
      "505624    1902.0\n",
      "506359    1902.0\n",
      "506406    1902.0\n",
      "506994    1902.0\n",
      "507024    1902.0\n",
      "507440    1928.0\n",
      "508197    1928.0\n",
      "509300    1902.0\n",
      "509330    1902.0\n",
      "509928    1902.0\n",
      "510055    1902.0\n",
      "511659    1902.0\n",
      "512160    1902.0\n",
      "514200    1902.0\n",
      "514556    1902.0\n",
      "517299    1902.0\n",
      "517916    1902.0\n",
      "518374    1902.0\n",
      "518808    1902.0\n",
      "519345    1902.0\n",
      "Name: member_birth_year, Length: 479, dtype: float64\n",
      "(479, 15)\n"
     ]
    },
    {
     "data": {
      "text/plain": [
       "287       1900.0\n",
       "1751      1900.0\n",
       "3119      1900.0\n",
       "3259      1900.0\n",
       "5246      1900.0\n",
       "7183      1902.0\n",
       "8077      1902.0\n",
       "9838      1900.0\n",
       "10712     1900.0\n",
       "13035     1900.0\n",
       "14777     1924.0\n",
       "14779     1900.0\n",
       "15146     1902.0\n",
       "15333     1928.0\n",
       "15948     1900.0\n",
       "16001     1900.0\n",
       "16466     1902.0\n",
       "16977     1902.0\n",
       "16980     1924.0\n",
       "18074     1900.0\n",
       "18367     1902.0\n",
       "19981     1902.0\n",
       "20347     1902.0\n",
       "20411     1924.0\n",
       "21583     1924.0\n",
       "21678     1900.0\n",
       "21905     1900.0\n",
       "22517     1928.0\n",
       "22825     1928.0\n",
       "24051     1924.0\n",
       "           ...  \n",
       "497562    1902.0\n",
       "498254    1902.0\n",
       "498484    1902.0\n",
       "498964    1902.0\n",
       "499339    1902.0\n",
       "499968    1902.0\n",
       "500030    1902.0\n",
       "503584    1902.0\n",
       "504683    1902.0\n",
       "505380    1902.0\n",
       "505624    1902.0\n",
       "506359    1902.0\n",
       "506406    1902.0\n",
       "506994    1902.0\n",
       "507024    1902.0\n",
       "507440    1928.0\n",
       "508197    1928.0\n",
       "509300    1902.0\n",
       "509330    1902.0\n",
       "509928    1902.0\n",
       "510055    1902.0\n",
       "511659    1902.0\n",
       "512160    1902.0\n",
       "514200    1902.0\n",
       "514556    1902.0\n",
       "517299    1902.0\n",
       "517916    1902.0\n",
       "518374    1902.0\n",
       "518808    1902.0\n",
       "519345    1902.0\n",
       "Name: member_birth_year, Length: 479, dtype: float64"
      ]
     },
     "execution_count": 432,
     "metadata": {},
     "output_type": "execute_result"
    }
   ],
   "source": [
    "\n",
    "print(df[df.member_birth_year < 1930].member_birth_year)\n",
    "print(df[df.member_birth_year < 1930].shape)\n",
    "df[df.member_birth_year < 1930].member_birth_year"
   ]
  },
  {
   "cell_type": "markdown",
   "metadata": {},
   "source": [
    "### What is the structure of your dataset?\n",
    "\n",
    "> There is over 500k observation in this dataset and 15 columns that repersent the bike users.\n",
    "variables about the name of both start_station and end_station and thier lat and long coordinates.\n",
    "The users are divided into two groups 1.Member (Subscriber) and 2.Customer, also thier year of birth (age).\n",
    "An impoertant variables is the duration of the trip in seconds.\n",
    "\n",
    "### What is/are the main feature(s) of interest in your dataset?\n",
    "\n",
    "> The duration in comparing with diffrent genders and the diffrent user group. a question such as Do member have higher durection trip than regualr customer? The result of this could encurage a customer to be a member.\n",
    "\n",
    "### What features in the dataset do you think will help support your investigation into your feature(s) of interest?\n",
    "\n",
    "> I beleive the duration, month, day and hour of the trip will be helpful in comparing diffrent groups such as gender and user type.."
   ]
  },
  {
   "cell_type": "markdown",
   "metadata": {},
   "source": [
    "<a id='ws'></a>\n",
    "\n",
    "## Wrangling step - assessing and cleaning.\n",
    "- assess visually and programmatically.\n",
    "\n",
    "### 1.ASSESSMNET:\n",
    "###### dtypes:\n",
    "- start_time as datetime or int \n",
    "- end_time as datetime or int \n",
    "- start_station_id as String object\n",
    "- end_station_id as String object\n",
    "- bike_id as string \n",
    "- user_type as categorical\n",
    "- member_birth_year as datetime or maybe int.\n",
    "\n",
    "\n",
    "###### null values:\n",
    "- member_birth_year\n",
    "- member_gender"
   ]
  },
  {
   "cell_type": "code",
   "execution_count": 433,
   "metadata": {},
   "outputs": [
    {
     "name": "stdout",
     "output_type": "stream",
     "text": [
      "duration_sec                 int64\n",
      "start_time                  object\n",
      "end_time                    object\n",
      "start_station_id             int64\n",
      "start_station_name          object\n",
      "start_station_latitude     float64\n",
      "start_station_longitude    float64\n",
      "end_station_id               int64\n",
      "end_station_name            object\n",
      "end_station_latitude       float64\n",
      "end_station_longitude      float64\n",
      "bike_id                      int64\n",
      "user_type                   object\n",
      "member_birth_year          float64\n",
      "member_gender               object\n",
      "dtype: object\n"
     ]
    }
   ],
   "source": [
    "print(df.dtypes)"
   ]
  },
  {
   "cell_type": "code",
   "execution_count": 434,
   "metadata": {
    "scrolled": true
   },
   "outputs": [
    {
     "data": {
      "text/plain": [
       "duration_sec                   0\n",
       "start_time                     0\n",
       "end_time                       0\n",
       "start_station_id               0\n",
       "start_station_name             0\n",
       "start_station_latitude         0\n",
       "start_station_longitude        0\n",
       "end_station_id                 0\n",
       "end_station_name               0\n",
       "end_station_latitude           0\n",
       "end_station_longitude          0\n",
       "bike_id                        0\n",
       "user_type                      0\n",
       "member_birth_year          66541\n",
       "member_gender              66462\n",
       "dtype: int64"
      ]
     },
     "execution_count": 434,
     "metadata": {},
     "output_type": "execute_result"
    }
   ],
   "source": [
    "# checking for null values\n",
    "len(df) - df.count()"
   ]
  },
  {
   "cell_type": "code",
   "execution_count": 435,
   "metadata": {},
   "outputs": [
    {
     "data": {
      "text/plain": [
       "array(['Male', 'Female', nan, 'Other'], dtype=object)"
      ]
     },
     "execution_count": 435,
     "metadata": {},
     "output_type": "execute_result"
    }
   ],
   "source": [
    "df.member_gender.unique()"
   ]
  },
  {
   "cell_type": "code",
   "execution_count": 436,
   "metadata": {
    "scrolled": true
   },
   "outputs": [
    {
     "data": {
      "text/plain": [
       "0"
      ]
     },
     "execution_count": 436,
     "metadata": {},
     "output_type": "execute_result"
    }
   ],
   "source": [
    "# checking for duplicated values\n",
    "len(df) - len(df.duplicated())"
   ]
  },
  {
   "cell_type": "code",
   "execution_count": 437,
   "metadata": {},
   "outputs": [
    {
     "data": {
      "text/html": [
       "<div>\n",
       "<style scoped>\n",
       "    .dataframe tbody tr th:only-of-type {\n",
       "        vertical-align: middle;\n",
       "    }\n",
       "\n",
       "    .dataframe tbody tr th {\n",
       "        vertical-align: top;\n",
       "    }\n",
       "\n",
       "    .dataframe thead th {\n",
       "        text-align: right;\n",
       "    }\n",
       "</style>\n",
       "<table border=\"1\" class=\"dataframe\">\n",
       "  <thead>\n",
       "    <tr style=\"text-align: right;\">\n",
       "      <th></th>\n",
       "      <th>duration_sec</th>\n",
       "      <th>start_station_id</th>\n",
       "      <th>start_station_latitude</th>\n",
       "      <th>start_station_longitude</th>\n",
       "      <th>end_station_id</th>\n",
       "      <th>end_station_latitude</th>\n",
       "      <th>end_station_longitude</th>\n",
       "      <th>bike_id</th>\n",
       "      <th>member_birth_year</th>\n",
       "    </tr>\n",
       "  </thead>\n",
       "  <tbody>\n",
       "    <tr>\n",
       "      <th>count</th>\n",
       "      <td>519700.000000</td>\n",
       "      <td>519700.000000</td>\n",
       "      <td>519700.000000</td>\n",
       "      <td>519700.000000</td>\n",
       "      <td>519700.000000</td>\n",
       "      <td>519700.000000</td>\n",
       "      <td>519700.000000</td>\n",
       "      <td>519700.000000</td>\n",
       "      <td>453159.000000</td>\n",
       "    </tr>\n",
       "    <tr>\n",
       "      <th>mean</th>\n",
       "      <td>1099.009521</td>\n",
       "      <td>95.034245</td>\n",
       "      <td>37.771653</td>\n",
       "      <td>-122.363927</td>\n",
       "      <td>92.184041</td>\n",
       "      <td>37.771844</td>\n",
       "      <td>-122.363236</td>\n",
       "      <td>1672.533079</td>\n",
       "      <td>1980.404787</td>\n",
       "    </tr>\n",
       "    <tr>\n",
       "      <th>std</th>\n",
       "      <td>3444.146451</td>\n",
       "      <td>86.083078</td>\n",
       "      <td>0.086305</td>\n",
       "      <td>0.105573</td>\n",
       "      <td>84.969491</td>\n",
       "      <td>0.086224</td>\n",
       "      <td>0.105122</td>\n",
       "      <td>971.356959</td>\n",
       "      <td>10.513488</td>\n",
       "    </tr>\n",
       "    <tr>\n",
       "      <th>min</th>\n",
       "      <td>61.000000</td>\n",
       "      <td>3.000000</td>\n",
       "      <td>37.317298</td>\n",
       "      <td>-122.444293</td>\n",
       "      <td>3.000000</td>\n",
       "      <td>37.317298</td>\n",
       "      <td>-122.444293</td>\n",
       "      <td>10.000000</td>\n",
       "      <td>1886.000000</td>\n",
       "    </tr>\n",
       "    <tr>\n",
       "      <th>25%</th>\n",
       "      <td>382.000000</td>\n",
       "      <td>24.000000</td>\n",
       "      <td>37.773492</td>\n",
       "      <td>-122.411726</td>\n",
       "      <td>23.000000</td>\n",
       "      <td>37.774520</td>\n",
       "      <td>-122.410345</td>\n",
       "      <td>787.000000</td>\n",
       "      <td>1974.000000</td>\n",
       "    </tr>\n",
       "    <tr>\n",
       "      <th>50%</th>\n",
       "      <td>596.000000</td>\n",
       "      <td>67.000000</td>\n",
       "      <td>37.783521</td>\n",
       "      <td>-122.398870</td>\n",
       "      <td>66.000000</td>\n",
       "      <td>37.783830</td>\n",
       "      <td>-122.398525</td>\n",
       "      <td>1728.500000</td>\n",
       "      <td>1983.000000</td>\n",
       "    </tr>\n",
       "    <tr>\n",
       "      <th>75%</th>\n",
       "      <td>938.000000</td>\n",
       "      <td>139.000000</td>\n",
       "      <td>37.795392</td>\n",
       "      <td>-122.391034</td>\n",
       "      <td>134.000000</td>\n",
       "      <td>37.795392</td>\n",
       "      <td>-122.391034</td>\n",
       "      <td>2520.000000</td>\n",
       "      <td>1988.000000</td>\n",
       "    </tr>\n",
       "    <tr>\n",
       "      <th>max</th>\n",
       "      <td>86369.000000</td>\n",
       "      <td>340.000000</td>\n",
       "      <td>37.880222</td>\n",
       "      <td>-121.874119</td>\n",
       "      <td>340.000000</td>\n",
       "      <td>37.880222</td>\n",
       "      <td>-121.874119</td>\n",
       "      <td>3733.000000</td>\n",
       "      <td>1999.000000</td>\n",
       "    </tr>\n",
       "  </tbody>\n",
       "</table>\n",
       "</div>"
      ],
      "text/plain": [
       "        duration_sec  start_station_id  start_station_latitude  \\\n",
       "count  519700.000000     519700.000000           519700.000000   \n",
       "mean     1099.009521         95.034245               37.771653   \n",
       "std      3444.146451         86.083078                0.086305   \n",
       "min        61.000000          3.000000               37.317298   \n",
       "25%       382.000000         24.000000               37.773492   \n",
       "50%       596.000000         67.000000               37.783521   \n",
       "75%       938.000000        139.000000               37.795392   \n",
       "max     86369.000000        340.000000               37.880222   \n",
       "\n",
       "       start_station_longitude  end_station_id  end_station_latitude  \\\n",
       "count            519700.000000   519700.000000         519700.000000   \n",
       "mean               -122.363927       92.184041             37.771844   \n",
       "std                   0.105573       84.969491              0.086224   \n",
       "min                -122.444293        3.000000             37.317298   \n",
       "25%                -122.411726       23.000000             37.774520   \n",
       "50%                -122.398870       66.000000             37.783830   \n",
       "75%                -122.391034      134.000000             37.795392   \n",
       "max                -121.874119      340.000000             37.880222   \n",
       "\n",
       "       end_station_longitude        bike_id  member_birth_year  \n",
       "count          519700.000000  519700.000000      453159.000000  \n",
       "mean             -122.363236    1672.533079        1980.404787  \n",
       "std                 0.105122     971.356959          10.513488  \n",
       "min              -122.444293      10.000000        1886.000000  \n",
       "25%              -122.410345     787.000000        1974.000000  \n",
       "50%              -122.398525    1728.500000        1983.000000  \n",
       "75%              -122.391034    2520.000000        1988.000000  \n",
       "max              -121.874119    3733.000000        1999.000000  "
      ]
     },
     "execution_count": 437,
     "metadata": {},
     "output_type": "execute_result"
    }
   ],
   "source": [
    "df.describe()"
   ]
  },
  {
   "cell_type": "code",
   "execution_count": 438,
   "metadata": {},
   "outputs": [
    {
     "name": "stdout",
     "output_type": "stream",
     "text": [
      "425817    1886.0\n",
      "426608    1886.0\n",
      "Name: member_birth_year, dtype: float64\n"
     ]
    }
   ],
   "source": [
    "# Min member_birth_year is 1886 !!? (should be 1986 probably) \n",
    "print(df[df.member_birth_year == 1886].member_birth_year)"
   ]
  },
  {
   "cell_type": "markdown",
   "metadata": {},
   "source": [
    "### 2.Cleaning"
   ]
  },
  {
   "cell_type": "code",
   "execution_count": 439,
   "metadata": {},
   "outputs": [],
   "source": [
    "# lets fix this now.\n",
    "df.iloc[425817,df.columns.get_loc('member_birth_year')] = 1986\n",
    "df.iloc[426608, df.columns.get_loc('member_birth_year')] = 1986"
   ]
  },
  {
   "cell_type": "code",
   "execution_count": 440,
   "metadata": {
    "scrolled": true
   },
   "outputs": [
    {
     "data": {
      "text/plain": [
       "array([ True,  True])"
      ]
     },
     "execution_count": 440,
     "metadata": {},
     "output_type": "execute_result"
    }
   ],
   "source": [
    "users = df.user_type.unique()\n",
    "users == ['Customer', 'Subscriber']"
   ]
  },
  {
   "cell_type": "code",
   "execution_count": 441,
   "metadata": {
    "scrolled": false
   },
   "outputs": [
    {
     "name": "stdout",
     "output_type": "stream",
     "text": [
      "duration_sec                 int64\n",
      "start_time                  object\n",
      "end_time                    object\n",
      "start_station_id             int64\n",
      "start_station_name          object\n",
      "start_station_latitude     float64\n",
      "start_station_longitude    float64\n",
      "end_station_id               int64\n",
      "end_station_name            object\n",
      "end_station_latitude       float64\n",
      "end_station_longitude      float64\n",
      "bike_id                      int64\n",
      "user_type                   object\n",
      "member_birth_year          float64\n",
      "member_gender               object\n",
      "dtype: object\n"
     ]
    }
   ],
   "source": [
    "# checking \n",
    "print(df.dtypes)"
   ]
  },
  {
   "cell_type": "code",
   "execution_count": 442,
   "metadata": {
    "scrolled": true
   },
   "outputs": [
    {
     "data": {
      "text/plain": [
       "(66462, 15)"
      ]
     },
     "execution_count": 442,
     "metadata": {},
     "output_type": "execute_result"
    }
   ],
   "source": [
    "# dealing with null values.\n",
    "# so when ever the value of the gender is missing the birth year will always be null.\n",
    "df[(df.member_gender.isnull()) & (df.member_birth_year.isnull())].shape"
   ]
  },
  {
   "cell_type": "code",
   "execution_count": 443,
   "metadata": {},
   "outputs": [
    {
     "data": {
      "text/plain": [
       "array(['Male', 'Female', 'Other'], dtype=object)"
      ]
     },
     "execution_count": 443,
     "metadata": {},
     "output_type": "execute_result"
    }
   ],
   "source": [
    "# drop null values\n",
    "df.dropna(inplace=True)\n",
    "df[df.member_gender.isnull()]\n",
    "df.member_gender.unique()"
   ]
  },
  {
   "cell_type": "code",
   "execution_count": 444,
   "metadata": {},
   "outputs": [],
   "source": [
    "# fixing the dtypes problems.\n",
    "df.start_time = pd.to_datetime(df.start_time)\n",
    "df.end_time = pd.to_datetime(df.end_time)\n",
    "df.start_station_id = df.start_station_id.astype(str)\n",
    "df.end_station_id = df.end_station_id.astype(str)\n",
    "df.bike_id = df.bike_id.astype(str)\n",
    "df.user_type = df.user_type.astype('category')\n",
    "df.member_birth_year = df.member_birth_year.astype(int) # easeir to deal with as an integer."
   ]
  },
  {
   "cell_type": "code",
   "execution_count": 445,
   "metadata": {
    "scrolled": true
   },
   "outputs": [
    {
     "data": {
      "text/html": [
       "<div>\n",
       "<style scoped>\n",
       "    .dataframe tbody tr th:only-of-type {\n",
       "        vertical-align: middle;\n",
       "    }\n",
       "\n",
       "    .dataframe tbody tr th {\n",
       "        vertical-align: top;\n",
       "    }\n",
       "\n",
       "    .dataframe thead th {\n",
       "        text-align: right;\n",
       "    }\n",
       "</style>\n",
       "<table border=\"1\" class=\"dataframe\">\n",
       "  <thead>\n",
       "    <tr style=\"text-align: right;\">\n",
       "      <th></th>\n",
       "      <th>duration_sec</th>\n",
       "      <th>start_time</th>\n",
       "      <th>end_time</th>\n",
       "      <th>start_station_id</th>\n",
       "      <th>start_station_name</th>\n",
       "      <th>start_station_latitude</th>\n",
       "      <th>start_station_longitude</th>\n",
       "      <th>end_station_id</th>\n",
       "      <th>end_station_name</th>\n",
       "      <th>end_station_latitude</th>\n",
       "      <th>end_station_longitude</th>\n",
       "      <th>bike_id</th>\n",
       "      <th>user_type</th>\n",
       "      <th>member_birth_year</th>\n",
       "      <th>member_gender</th>\n",
       "    </tr>\n",
       "  </thead>\n",
       "  <tbody>\n",
       "    <tr>\n",
       "      <th>0</th>\n",
       "      <td>80110</td>\n",
       "      <td>2017-12-31 16:57:39.654</td>\n",
       "      <td>2018-01-01 15:12:50.245</td>\n",
       "      <td>74</td>\n",
       "      <td>Laguna St at Hayes St</td>\n",
       "      <td>37.776435</td>\n",
       "      <td>-122.426244</td>\n",
       "      <td>43</td>\n",
       "      <td>San Francisco Public Library (Grove St at Hyde...</td>\n",
       "      <td>37.778768</td>\n",
       "      <td>-122.415929</td>\n",
       "      <td>96</td>\n",
       "      <td>Customer</td>\n",
       "      <td>1987</td>\n",
       "      <td>Male</td>\n",
       "    </tr>\n",
       "    <tr>\n",
       "      <th>1</th>\n",
       "      <td>78800</td>\n",
       "      <td>2017-12-31 15:56:34.842</td>\n",
       "      <td>2018-01-01 13:49:55.617</td>\n",
       "      <td>284</td>\n",
       "      <td>Yerba Buena Center for the Arts (Howard St at ...</td>\n",
       "      <td>37.784872</td>\n",
       "      <td>-122.400876</td>\n",
       "      <td>96</td>\n",
       "      <td>Dolores St at 15th St</td>\n",
       "      <td>37.766210</td>\n",
       "      <td>-122.426614</td>\n",
       "      <td>88</td>\n",
       "      <td>Customer</td>\n",
       "      <td>1965</td>\n",
       "      <td>Female</td>\n",
       "    </tr>\n",
       "    <tr>\n",
       "      <th>4</th>\n",
       "      <td>43603</td>\n",
       "      <td>2017-12-31 14:23:14.001</td>\n",
       "      <td>2018-01-01 02:29:57.571</td>\n",
       "      <td>239</td>\n",
       "      <td>Bancroft Way at Telegraph Ave</td>\n",
       "      <td>37.868813</td>\n",
       "      <td>-122.258764</td>\n",
       "      <td>247</td>\n",
       "      <td>Fulton St at Bancroft Way</td>\n",
       "      <td>37.867789</td>\n",
       "      <td>-122.265896</td>\n",
       "      <td>3167</td>\n",
       "      <td>Subscriber</td>\n",
       "      <td>1997</td>\n",
       "      <td>Female</td>\n",
       "    </tr>\n",
       "  </tbody>\n",
       "</table>\n",
       "</div>"
      ],
      "text/plain": [
       "   duration_sec              start_time                end_time  \\\n",
       "0         80110 2017-12-31 16:57:39.654 2018-01-01 15:12:50.245   \n",
       "1         78800 2017-12-31 15:56:34.842 2018-01-01 13:49:55.617   \n",
       "4         43603 2017-12-31 14:23:14.001 2018-01-01 02:29:57.571   \n",
       "\n",
       "  start_station_id                                 start_station_name  \\\n",
       "0               74                              Laguna St at Hayes St   \n",
       "1              284  Yerba Buena Center for the Arts (Howard St at ...   \n",
       "4              239                      Bancroft Way at Telegraph Ave   \n",
       "\n",
       "   start_station_latitude  start_station_longitude end_station_id  \\\n",
       "0               37.776435              -122.426244             43   \n",
       "1               37.784872              -122.400876             96   \n",
       "4               37.868813              -122.258764            247   \n",
       "\n",
       "                                    end_station_name  end_station_latitude  \\\n",
       "0  San Francisco Public Library (Grove St at Hyde...             37.778768   \n",
       "1                              Dolores St at 15th St             37.766210   \n",
       "4                          Fulton St at Bancroft Way             37.867789   \n",
       "\n",
       "   end_station_longitude bike_id   user_type  member_birth_year member_gender  \n",
       "0            -122.415929      96    Customer               1987          Male  \n",
       "1            -122.426614      88    Customer               1965        Female  \n",
       "4            -122.265896    3167  Subscriber               1997        Female  "
      ]
     },
     "execution_count": 445,
     "metadata": {},
     "output_type": "execute_result"
    }
   ],
   "source": [
    "df.head(3)"
   ]
  },
  {
   "cell_type": "code",
   "execution_count": 446,
   "metadata": {},
   "outputs": [
    {
     "data": {
      "text/plain": [
       "(453159, 15)"
      ]
     },
     "execution_count": 446,
     "metadata": {},
     "output_type": "execute_result"
    }
   ],
   "source": [
    "df.shape"
   ]
  },
  {
   "cell_type": "markdown",
   "metadata": {},
   "source": [
    "### Feature Engineering \n",
    "> Since the start_time  & end_time column has the year, month, day, and hour we can extract useful information and create new columns to use it in our expolring.\n",
    " - Year \n",
    " - Month\n",
    " - Day\n",
    " - Hour\n",
    " - Age: extracted from member_birth_year"
   ]
  },
  {
   "cell_type": "code",
   "execution_count": 447,
   "metadata": {},
   "outputs": [],
   "source": [
    "# https://www.journaldev.com/23365/python-string-to-datetime-strptime \n",
    "# https://www.geeksforgeeks.org/python-pandas-series-dt-strftime/\n",
    "\n",
    "df['trip_month'] = df.start_time.dt.strftime('%b')\n",
    "df['trip_day'] = df.start_time.dt.strftime('%a')\n",
    "df['trip_hour'] = df.start_time.dt.strftime('%H')\n",
    "#df['start_seconds'] = df.start_time.dt.strftime('%S')\n",
    "#df['start_microsecond'] = df.start_time.dt.strftime('%f')  "
   ]
  },
  {
   "cell_type": "code",
   "execution_count": 448,
   "metadata": {},
   "outputs": [],
   "source": [
    "df['age'] = datetime.now().year - df.member_birth_year"
   ]
  },
  {
   "cell_type": "code",
   "execution_count": 449,
   "metadata": {},
   "outputs": [],
   "source": [
    "# unneeded columns\n",
    "df.drop(axis=1, columns=['start_time','end_time'], inplace=True)"
   ]
  },
  {
   "cell_type": "markdown",
   "metadata": {},
   "source": [
    "#### Final strcture of the dataframe."
   ]
  },
  {
   "cell_type": "code",
   "execution_count": 450,
   "metadata": {
    "scrolled": true
   },
   "outputs": [
    {
     "data": {
      "text/html": [
       "<div>\n",
       "<style scoped>\n",
       "    .dataframe tbody tr th:only-of-type {\n",
       "        vertical-align: middle;\n",
       "    }\n",
       "\n",
       "    .dataframe tbody tr th {\n",
       "        vertical-align: top;\n",
       "    }\n",
       "\n",
       "    .dataframe thead th {\n",
       "        text-align: right;\n",
       "    }\n",
       "</style>\n",
       "<table border=\"1\" class=\"dataframe\">\n",
       "  <thead>\n",
       "    <tr style=\"text-align: right;\">\n",
       "      <th></th>\n",
       "      <th>duration_sec</th>\n",
       "      <th>start_station_id</th>\n",
       "      <th>start_station_name</th>\n",
       "      <th>start_station_latitude</th>\n",
       "      <th>start_station_longitude</th>\n",
       "      <th>end_station_id</th>\n",
       "      <th>end_station_name</th>\n",
       "      <th>end_station_latitude</th>\n",
       "      <th>end_station_longitude</th>\n",
       "      <th>bike_id</th>\n",
       "      <th>user_type</th>\n",
       "      <th>member_birth_year</th>\n",
       "      <th>member_gender</th>\n",
       "      <th>trip_month</th>\n",
       "      <th>trip_day</th>\n",
       "      <th>trip_hour</th>\n",
       "      <th>age</th>\n",
       "    </tr>\n",
       "  </thead>\n",
       "  <tbody>\n",
       "    <tr>\n",
       "      <th>0</th>\n",
       "      <td>80110</td>\n",
       "      <td>74</td>\n",
       "      <td>Laguna St at Hayes St</td>\n",
       "      <td>37.776435</td>\n",
       "      <td>-122.426244</td>\n",
       "      <td>43</td>\n",
       "      <td>San Francisco Public Library (Grove St at Hyde...</td>\n",
       "      <td>37.778768</td>\n",
       "      <td>-122.415929</td>\n",
       "      <td>96</td>\n",
       "      <td>Customer</td>\n",
       "      <td>1987</td>\n",
       "      <td>Male</td>\n",
       "      <td>Dec</td>\n",
       "      <td>Sun</td>\n",
       "      <td>16</td>\n",
       "      <td>32</td>\n",
       "    </tr>\n",
       "    <tr>\n",
       "      <th>1</th>\n",
       "      <td>78800</td>\n",
       "      <td>284</td>\n",
       "      <td>Yerba Buena Center for the Arts (Howard St at ...</td>\n",
       "      <td>37.784872</td>\n",
       "      <td>-122.400876</td>\n",
       "      <td>96</td>\n",
       "      <td>Dolores St at 15th St</td>\n",
       "      <td>37.766210</td>\n",
       "      <td>-122.426614</td>\n",
       "      <td>88</td>\n",
       "      <td>Customer</td>\n",
       "      <td>1965</td>\n",
       "      <td>Female</td>\n",
       "      <td>Dec</td>\n",
       "      <td>Sun</td>\n",
       "      <td>15</td>\n",
       "      <td>54</td>\n",
       "    </tr>\n",
       "    <tr>\n",
       "      <th>4</th>\n",
       "      <td>43603</td>\n",
       "      <td>239</td>\n",
       "      <td>Bancroft Way at Telegraph Ave</td>\n",
       "      <td>37.868813</td>\n",
       "      <td>-122.258764</td>\n",
       "      <td>247</td>\n",
       "      <td>Fulton St at Bancroft Way</td>\n",
       "      <td>37.867789</td>\n",
       "      <td>-122.265896</td>\n",
       "      <td>3167</td>\n",
       "      <td>Subscriber</td>\n",
       "      <td>1997</td>\n",
       "      <td>Female</td>\n",
       "      <td>Dec</td>\n",
       "      <td>Sun</td>\n",
       "      <td>14</td>\n",
       "      <td>22</td>\n",
       "    </tr>\n",
       "    <tr>\n",
       "      <th>6</th>\n",
       "      <td>4507</td>\n",
       "      <td>259</td>\n",
       "      <td>Addison St at Fourth St</td>\n",
       "      <td>37.866249</td>\n",
       "      <td>-122.299371</td>\n",
       "      <td>259</td>\n",
       "      <td>Addison St at Fourth St</td>\n",
       "      <td>37.866249</td>\n",
       "      <td>-122.299371</td>\n",
       "      <td>3539</td>\n",
       "      <td>Customer</td>\n",
       "      <td>1991</td>\n",
       "      <td>Female</td>\n",
       "      <td>Dec</td>\n",
       "      <td>Sun</td>\n",
       "      <td>23</td>\n",
       "      <td>28</td>\n",
       "    </tr>\n",
       "    <tr>\n",
       "      <th>12</th>\n",
       "      <td>2183</td>\n",
       "      <td>67</td>\n",
       "      <td>San Francisco Caltrain Station 2  (Townsend St...</td>\n",
       "      <td>37.776639</td>\n",
       "      <td>-122.395526</td>\n",
       "      <td>24</td>\n",
       "      <td>Spear St at Folsom St</td>\n",
       "      <td>37.789677</td>\n",
       "      <td>-122.390428</td>\n",
       "      <td>2311</td>\n",
       "      <td>Subscriber</td>\n",
       "      <td>1990</td>\n",
       "      <td>Male</td>\n",
       "      <td>Dec</td>\n",
       "      <td>Sun</td>\n",
       "      <td>23</td>\n",
       "      <td>29</td>\n",
       "    </tr>\n",
       "  </tbody>\n",
       "</table>\n",
       "</div>"
      ],
      "text/plain": [
       "    duration_sec start_station_id  \\\n",
       "0          80110               74   \n",
       "1          78800              284   \n",
       "4          43603              239   \n",
       "6           4507              259   \n",
       "12          2183               67   \n",
       "\n",
       "                                   start_station_name  start_station_latitude  \\\n",
       "0                               Laguna St at Hayes St               37.776435   \n",
       "1   Yerba Buena Center for the Arts (Howard St at ...               37.784872   \n",
       "4                       Bancroft Way at Telegraph Ave               37.868813   \n",
       "6                             Addison St at Fourth St               37.866249   \n",
       "12  San Francisco Caltrain Station 2  (Townsend St...               37.776639   \n",
       "\n",
       "    start_station_longitude end_station_id  \\\n",
       "0               -122.426244             43   \n",
       "1               -122.400876             96   \n",
       "4               -122.258764            247   \n",
       "6               -122.299371            259   \n",
       "12              -122.395526             24   \n",
       "\n",
       "                                     end_station_name  end_station_latitude  \\\n",
       "0   San Francisco Public Library (Grove St at Hyde...             37.778768   \n",
       "1                               Dolores St at 15th St             37.766210   \n",
       "4                           Fulton St at Bancroft Way             37.867789   \n",
       "6                             Addison St at Fourth St             37.866249   \n",
       "12                              Spear St at Folsom St             37.789677   \n",
       "\n",
       "    end_station_longitude bike_id   user_type  member_birth_year  \\\n",
       "0             -122.415929      96    Customer               1987   \n",
       "1             -122.426614      88    Customer               1965   \n",
       "4             -122.265896    3167  Subscriber               1997   \n",
       "6             -122.299371    3539    Customer               1991   \n",
       "12            -122.390428    2311  Subscriber               1990   \n",
       "\n",
       "   member_gender trip_month trip_day trip_hour  age  \n",
       "0           Male        Dec      Sun        16   32  \n",
       "1         Female        Dec      Sun        15   54  \n",
       "4         Female        Dec      Sun        14   22  \n",
       "6         Female        Dec      Sun        23   28  \n",
       "12          Male        Dec      Sun        23   29  "
      ]
     },
     "execution_count": 450,
     "metadata": {},
     "output_type": "execute_result"
    }
   ],
   "source": [
    "df_clean = df.copy()\n",
    "df_clean.head()"
   ]
  },
  {
   "cell_type": "code",
   "execution_count": null,
   "metadata": {},
   "outputs": [],
   "source": []
  },
  {
   "cell_type": "markdown",
   "metadata": {},
   "source": [
    "<a id='ui'></a>\n",
    "## Univariate Exploration\n",
    "\n",
    "> In this section, I will investigate the distributions of some  variables individually."
   ]
  },
  {
   "cell_type": "markdown",
   "metadata": {},
   "source": [
    "- Due to the very large range of values taken, I performed scale log transformation ocn the x-axis.\n",
    "- Dustrubitui is skewed to the ? \n",
    "- most values are between 250 and 3000.\n",
    "- the most right values I would not consider them as outliers yet."
   ]
  },
  {
   "cell_type": "code",
   "execution_count": 451,
   "metadata": {},
   "outputs": [
    {
     "data": {
      "text/plain": [
       "count    5.656251\n",
       "mean     2.920611\n",
       "std      3.402310\n",
       "min      1.785330\n",
       "25%      2.561101\n",
       "50%      2.745075\n",
       "75%      2.923244\n",
       "max      4.935769\n",
       "Name: duration_sec, dtype: float64"
      ]
     },
     "execution_count": 451,
     "metadata": {},
     "output_type": "execute_result"
    }
   ],
   "source": [
    "np.log10(df_clean.duration_sec.describe())"
   ]
  },
  {
   "cell_type": "code",
   "execution_count": 484,
   "metadata": {
    "scrolled": true
   },
   "outputs": [
    {
     "data": {
      "image/png": "[encoded data removed]",
      "text/plain": [
       "<Figure size 720x360 with 1 Axes>"
      ]
     },
     "metadata": {
      "needs_background": "light"
     },
     "output_type": "display_data"
    }
   ],
   "source": [
    "# 1. duration.\n",
    "bins = 10 ** np.arange(2, 5.0 + 0.1, 0.1) \n",
    "plt.figure(figsize=[10, 5])\n",
    "plt.hist(data=df_clean, x='duration_sec', bins=bins)\n",
    "ticks = [100, 300, 700 , 1500, 4000, 12000, 30000, 80000]\n",
    "labels = ['{}'.format(val) for val in ticks]\n",
    "plt.xscale('log')\n",
    "plt.xticks(ticks, labels)\n",
    "plt.xlabel('Trip Duration (sec)')\n",
    "plt.title('The most frequent trip duration')\n",
    "plt.show();"
   ]
  },
  {
   "cell_type": "code",
   "execution_count": 453,
   "metadata": {
    "scrolled": false
   },
   "outputs": [
    {
     "data": {
      "text/html": [
       "<div>\n",
       "<style scoped>\n",
       "    .dataframe tbody tr th:only-of-type {\n",
       "        vertical-align: middle;\n",
       "    }\n",
       "\n",
       "    .dataframe tbody tr th {\n",
       "        vertical-align: top;\n",
       "    }\n",
       "\n",
       "    .dataframe thead th {\n",
       "        text-align: right;\n",
       "    }\n",
       "</style>\n",
       "<table border=\"1\" class=\"dataframe\">\n",
       "  <thead>\n",
       "    <tr style=\"text-align: right;\">\n",
       "      <th></th>\n",
       "      <th>duration_sec</th>\n",
       "      <th>start_station_id</th>\n",
       "      <th>start_station_name</th>\n",
       "      <th>start_station_latitude</th>\n",
       "      <th>start_station_longitude</th>\n",
       "      <th>end_station_id</th>\n",
       "      <th>end_station_name</th>\n",
       "      <th>end_station_latitude</th>\n",
       "      <th>end_station_longitude</th>\n",
       "      <th>bike_id</th>\n",
       "      <th>user_type</th>\n",
       "      <th>member_birth_year</th>\n",
       "      <th>member_gender</th>\n",
       "      <th>trip_month</th>\n",
       "      <th>trip_day</th>\n",
       "      <th>trip_hour</th>\n",
       "      <th>age</th>\n",
       "    </tr>\n",
       "  </thead>\n",
       "  <tbody>\n",
       "    <tr>\n",
       "      <th>0</th>\n",
       "      <td>80110</td>\n",
       "      <td>74</td>\n",
       "      <td>Laguna St at Hayes St</td>\n",
       "      <td>37.776435</td>\n",
       "      <td>-122.426244</td>\n",
       "      <td>43</td>\n",
       "      <td>San Francisco Public Library (Grove St at Hyde...</td>\n",
       "      <td>37.778768</td>\n",
       "      <td>-122.415929</td>\n",
       "      <td>96</td>\n",
       "      <td>Customer</td>\n",
       "      <td>1987</td>\n",
       "      <td>Male</td>\n",
       "      <td>Dec</td>\n",
       "      <td>Sun</td>\n",
       "      <td>16</td>\n",
       "      <td>32</td>\n",
       "    </tr>\n",
       "  </tbody>\n",
       "</table>\n",
       "</div>"
      ],
      "text/plain": [
       "   duration_sec start_station_id     start_station_name  \\\n",
       "0         80110               74  Laguna St at Hayes St   \n",
       "\n",
       "   start_station_latitude  start_station_longitude end_station_id  \\\n",
       "0               37.776435              -122.426244             43   \n",
       "\n",
       "                                    end_station_name  end_station_latitude  \\\n",
       "0  San Francisco Public Library (Grove St at Hyde...             37.778768   \n",
       "\n",
       "   end_station_longitude bike_id user_type  member_birth_year member_gender  \\\n",
       "0            -122.415929      96  Customer               1987          Male   \n",
       "\n",
       "  trip_month trip_day trip_hour  age  \n",
       "0        Dec      Sun        16   32  "
      ]
     },
     "execution_count": 453,
     "metadata": {},
     "output_type": "execute_result"
    }
   ],
   "source": [
    "df_clean.head(1)"
   ]
  },
  {
   "cell_type": "markdown",
   "metadata": {},
   "source": [
    "### visualizing months distribution:\n",
    "as the weather gets colder the less trips were made.\n"
   ]
  },
  {
   "cell_type": "code",
   "execution_count": 487,
   "metadata": {
    "scrolled": true
   },
   "outputs": [
    {
     "data": {
      "image/png": "[encoded data removed]",
      "text/plain": [
       "<Figure size 432x288 with 1 Axes>"
      ]
     },
     "metadata": {
      "needs_background": "light"
     },
     "output_type": "display_data"
    }
   ],
   "source": [
    "sb.countplot(data=df_clean, x='trip_month', color=sb.color_palette()[0]);\n",
    "plt.xlabel('Month of the trip')\n",
    "plt.title('Number of trip in diffrent months');"
   ]
  },
  {
   "cell_type": "markdown",
   "metadata": {},
   "source": [
    "### Exploring the days variable.\n",
    "weekdays has way more trips than the weekends, as expected."
   ]
  },
  {
   "cell_type": "code",
   "execution_count": 488,
   "metadata": {
    "scrolled": true
   },
   "outputs": [
    {
     "data": {
      "image/png": "[encoded data removed]",
      "text/plain": [
       "<Figure size 432x288 with 1 Axes>"
      ]
     },
     "metadata": {
      "needs_background": "light"
     },
     "output_type": "display_data"
    }
   ],
   "source": [
    "sb.countplot(data=df_clean, x='trip_day', color=sb.color_palette()[0]);\n",
    "plt.xlabel('Day of the trip')\n",
    "plt.title('Number of trip in diffrent Days');"
   ]
  },
  {
   "cell_type": "markdown",
   "metadata": {},
   "source": [
    "### Age distribution\n",
    "\n",
    "- Age seems to be unrealstic, there are more than 300 records with age greater than 100 years old. Most of whcih are subscriber so deleting these rows could affect other aspect in comapring the user_types and trip duration in Bivariate and Multivariate steps. \n",
    "- Beside that the distruption seems normal most points were between 35 to 45 years."
   ]
  },
  {
   "cell_type": "code",
   "execution_count": 490,
   "metadata": {
    "scrolled": true
   },
   "outputs": [
    {
     "data": {
      "image/png": "[encoded data removed]",
      "text/plain": [
       "<Figure size 432x288 with 1 Axes>"
      ]
     },
     "metadata": {
      "needs_background": "light"
     },
     "output_type": "display_data"
    }
   ],
   "source": [
    "# I would consider the Outliers from maybe 95 yers and above.\n",
    "sb.boxplot(data=df_clean, x='age', color=sb.color_palette()[0]);\n",
    "plt.xlabel('Age of the member');"
   ]
  },
  {
   "cell_type": "code",
   "execution_count": 457,
   "metadata": {},
   "outputs": [
    {
     "data": {
      "text/plain": [
       "count    453159.000000\n",
       "mean         38.594771\n",
       "std          10.511623\n",
       "min          20.000000\n",
       "25%          31.000000\n",
       "50%          36.000000\n",
       "75%          45.000000\n",
       "max         119.000000\n",
       "Name: age, dtype: float64"
      ]
     },
     "execution_count": 457,
     "metadata": {},
     "output_type": "execute_result"
    }
   ],
   "source": [
    "df_clean.age.describe()"
   ]
  },
  {
   "cell_type": "code",
   "execution_count": 458,
   "metadata": {},
   "outputs": [
    {
     "data": {
      "text/plain": [
       "count    5.656251\n",
       "mean     1.586528\n",
       "std      1.021670\n",
       "min      1.301030\n",
       "25%      1.491362\n",
       "50%      1.556303\n",
       "75%      1.653213\n",
       "max      2.075547\n",
       "Name: age, dtype: float64"
      ]
     },
     "execution_count": 458,
     "metadata": {},
     "output_type": "execute_result"
    }
   ],
   "source": [
    "np.log10(df_clean.age.describe())"
   ]
  },
  {
   "cell_type": "code",
   "execution_count": 459,
   "metadata": {},
   "outputs": [
    {
     "data": {
      "image/png": "[encoded data removed]",
      "text/plain": [
       "<Figure size 504x288 with 1 Axes>"
      ]
     },
     "metadata": {
      "needs_background": "light"
     },
     "output_type": "display_data"
    }
   ],
   "source": [
    "bins = 10 ** np.arange(1, 3.0 + 0.03 ,0.03) \n",
    "plt.figure(figsize=[7, 4])\n",
    "plt.hist(data=df_clean, x='age', bins=bins)\n",
    "ticks = [20, 30, 40 , 50, 60, 70, 80, 100]\n",
    "labels = ['{}'.format(val) for val in ticks]\n",
    "plt.xscale('log')\n",
    "plt.xticks(ticks, labels)\n",
    "plt.xlabel('AGE')\n",
    "plt.ylabel('Count')\n",
    "plt.xlim(20,100)\n",
    "plt.show();"
   ]
  },
  {
   "cell_type": "code",
   "execution_count": 460,
   "metadata": {},
   "outputs": [
    {
     "data": {
      "text/plain": [
       "array([ 20,  21,  22,  23,  24,  25,  26,  27,  28,  29,  30,  31,  32,\n",
       "        33,  34,  35,  36,  37,  38,  39,  40,  41,  42,  43,  44,  45,\n",
       "        46,  47,  48,  49,  50,  51,  52,  53,  54,  55,  56,  57,  58,\n",
       "        59,  60,  61,  62,  63,  64,  65,  66,  67,  68,  69,  70,  71,\n",
       "        72,  73,  74,  75,  76,  77,  78,  79,  80,  81,  84,  85,  86,\n",
       "        91,  95, 108, 112, 117, 118, 119], dtype=int64)"
      ]
     },
     "execution_count": 460,
     "metadata": {},
     "output_type": "execute_result"
    }
   ],
   "source": [
    "# takeing a deeper look.\n",
    "np.sort(df_clean.age.unique())"
   ]
  },
  {
   "cell_type": "code",
   "execution_count": 461,
   "metadata": {},
   "outputs": [
    {
     "data": {
      "text/plain": [
       "array([1900, 1902, 1911, 1907, 1901], dtype=int64)"
      ]
     },
     "execution_count": 461,
     "metadata": {},
     "output_type": "execute_result"
    }
   ],
   "source": [
    "# lets fix what we can, 1886 seem to be a typo of 1986.\n",
    "df_clean[df_clean.age > 100].member_birth_year.unique()"
   ]
  },
  {
   "cell_type": "code",
   "execution_count": 462,
   "metadata": {
    "scrolled": false
   },
   "outputs": [
    {
     "data": {
      "text/html": [
       "<div>\n",
       "<style scoped>\n",
       "    .dataframe tbody tr th:only-of-type {\n",
       "        vertical-align: middle;\n",
       "    }\n",
       "\n",
       "    .dataframe tbody tr th {\n",
       "        vertical-align: top;\n",
       "    }\n",
       "\n",
       "    .dataframe thead th {\n",
       "        text-align: right;\n",
       "    }\n",
       "</style>\n",
       "<table border=\"1\" class=\"dataframe\">\n",
       "  <thead>\n",
       "    <tr style=\"text-align: right;\">\n",
       "      <th></th>\n",
       "      <th>duration_sec</th>\n",
       "      <th>start_station_id</th>\n",
       "      <th>start_station_name</th>\n",
       "      <th>start_station_latitude</th>\n",
       "      <th>start_station_longitude</th>\n",
       "      <th>end_station_id</th>\n",
       "      <th>end_station_name</th>\n",
       "      <th>end_station_latitude</th>\n",
       "      <th>end_station_longitude</th>\n",
       "      <th>bike_id</th>\n",
       "      <th>user_type</th>\n",
       "      <th>member_birth_year</th>\n",
       "      <th>member_gender</th>\n",
       "      <th>trip_month</th>\n",
       "      <th>trip_day</th>\n",
       "      <th>trip_hour</th>\n",
       "      <th>age</th>\n",
       "    </tr>\n",
       "  </thead>\n",
       "  <tbody>\n",
       "    <tr>\n",
       "      <th>287</th>\n",
       "      <td>581</td>\n",
       "      <td>274</td>\n",
       "      <td>Oregon St at Adeline St</td>\n",
       "      <td>37.857567</td>\n",
       "      <td>-122.267558</td>\n",
       "      <td>173</td>\n",
       "      <td>Shattuck Ave at 55th Ave</td>\n",
       "      <td>37.840364</td>\n",
       "      <td>-122.264488</td>\n",
       "      <td>3050</td>\n",
       "      <td>Subscriber</td>\n",
       "      <td>1900</td>\n",
       "      <td>Male</td>\n",
       "      <td>Dec</td>\n",
       "      <td>Sun</td>\n",
       "      <td>18</td>\n",
       "      <td>119</td>\n",
       "    </tr>\n",
       "    <tr>\n",
       "      <th>1751</th>\n",
       "      <td>370</td>\n",
       "      <td>207</td>\n",
       "      <td>Broadway at Coronado Ave</td>\n",
       "      <td>37.835788</td>\n",
       "      <td>-122.251621</td>\n",
       "      <td>173</td>\n",
       "      <td>Shattuck Ave at 55th Ave</td>\n",
       "      <td>37.840364</td>\n",
       "      <td>-122.264488</td>\n",
       "      <td>456</td>\n",
       "      <td>Subscriber</td>\n",
       "      <td>1900</td>\n",
       "      <td>Male</td>\n",
       "      <td>Dec</td>\n",
       "      <td>Sat</td>\n",
       "      <td>17</td>\n",
       "      <td>119</td>\n",
       "    </tr>\n",
       "    <tr>\n",
       "      <th>3119</th>\n",
       "      <td>457</td>\n",
       "      <td>207</td>\n",
       "      <td>Broadway at Coronado Ave</td>\n",
       "      <td>37.835788</td>\n",
       "      <td>-122.251621</td>\n",
       "      <td>173</td>\n",
       "      <td>Shattuck Ave at 55th Ave</td>\n",
       "      <td>37.840364</td>\n",
       "      <td>-122.264488</td>\n",
       "      <td>1238</td>\n",
       "      <td>Subscriber</td>\n",
       "      <td>1900</td>\n",
       "      <td>Male</td>\n",
       "      <td>Dec</td>\n",
       "      <td>Fri</td>\n",
       "      <td>18</td>\n",
       "      <td>119</td>\n",
       "    </tr>\n",
       "    <tr>\n",
       "      <th>3259</th>\n",
       "      <td>613</td>\n",
       "      <td>173</td>\n",
       "      <td>Shattuck Ave at 55th Ave</td>\n",
       "      <td>37.840364</td>\n",
       "      <td>-122.264488</td>\n",
       "      <td>207</td>\n",
       "      <td>Broadway at Coronado Ave</td>\n",
       "      <td>37.835788</td>\n",
       "      <td>-122.251621</td>\n",
       "      <td>1238</td>\n",
       "      <td>Subscriber</td>\n",
       "      <td>1900</td>\n",
       "      <td>Male</td>\n",
       "      <td>Dec</td>\n",
       "      <td>Fri</td>\n",
       "      <td>17</td>\n",
       "      <td>119</td>\n",
       "    </tr>\n",
       "    <tr>\n",
       "      <th>5246</th>\n",
       "      <td>271</td>\n",
       "      <td>158</td>\n",
       "      <td>Shattuck Ave at Telegraph Ave</td>\n",
       "      <td>37.833279</td>\n",
       "      <td>-122.263490</td>\n",
       "      <td>173</td>\n",
       "      <td>Shattuck Ave at 55th Ave</td>\n",
       "      <td>37.840364</td>\n",
       "      <td>-122.264488</td>\n",
       "      <td>173</td>\n",
       "      <td>Subscriber</td>\n",
       "      <td>1900</td>\n",
       "      <td>Male</td>\n",
       "      <td>Dec</td>\n",
       "      <td>Thu</td>\n",
       "      <td>16</td>\n",
       "      <td>119</td>\n",
       "    </tr>\n",
       "  </tbody>\n",
       "</table>\n",
       "</div>"
      ],
      "text/plain": [
       "      duration_sec start_station_id             start_station_name  \\\n",
       "287            581              274        Oregon St at Adeline St   \n",
       "1751           370              207       Broadway at Coronado Ave   \n",
       "3119           457              207       Broadway at Coronado Ave   \n",
       "3259           613              173       Shattuck Ave at 55th Ave   \n",
       "5246           271              158  Shattuck Ave at Telegraph Ave   \n",
       "\n",
       "      start_station_latitude  start_station_longitude end_station_id  \\\n",
       "287                37.857567              -122.267558            173   \n",
       "1751               37.835788              -122.251621            173   \n",
       "3119               37.835788              -122.251621            173   \n",
       "3259               37.840364              -122.264488            207   \n",
       "5246               37.833279              -122.263490            173   \n",
       "\n",
       "              end_station_name  end_station_latitude  end_station_longitude  \\\n",
       "287   Shattuck Ave at 55th Ave             37.840364            -122.264488   \n",
       "1751  Shattuck Ave at 55th Ave             37.840364            -122.264488   \n",
       "3119  Shattuck Ave at 55th Ave             37.840364            -122.264488   \n",
       "3259  Broadway at Coronado Ave             37.835788            -122.251621   \n",
       "5246  Shattuck Ave at 55th Ave             37.840364            -122.264488   \n",
       "\n",
       "     bike_id   user_type  member_birth_year member_gender trip_month trip_day  \\\n",
       "287     3050  Subscriber               1900          Male        Dec      Sun   \n",
       "1751     456  Subscriber               1900          Male        Dec      Sat   \n",
       "3119    1238  Subscriber               1900          Male        Dec      Fri   \n",
       "3259    1238  Subscriber               1900          Male        Dec      Fri   \n",
       "5246     173  Subscriber               1900          Male        Dec      Thu   \n",
       "\n",
       "     trip_hour  age  \n",
       "287         18  119  \n",
       "1751        17  119  \n",
       "3119        18  119  \n",
       "3259        17  119  \n",
       "5246        16  119  "
      ]
     },
     "execution_count": 462,
     "metadata": {},
     "output_type": "execute_result"
    }
   ],
   "source": [
    "df_clean[df_clean.age > 100].head()"
   ]
  },
  {
   "cell_type": "code",
   "execution_count": 463,
   "metadata": {
    "scrolled": true
   },
   "outputs": [
    {
     "data": {
      "text/plain": [
       "Subscriber    351\n",
       "Customer       31\n",
       "Name: user_type, dtype: int64"
      ]
     },
     "execution_count": 463,
     "metadata": {},
     "output_type": "execute_result"
    }
   ],
   "source": [
    "# most of them are subscriber.\n",
    "df_clean[df_clean.age > 100].user_type.value_counts()"
   ]
  },
  {
   "cell_type": "code",
   "execution_count": 464,
   "metadata": {},
   "outputs": [
    {
     "data": {
      "text/plain": [
       "1902    217\n",
       "1900    142\n",
       "1911     12\n",
       "1907      7\n",
       "1901      4\n",
       "Name: member_birth_year, dtype: int64"
      ]
     },
     "execution_count": 464,
     "metadata": {},
     "output_type": "execute_result"
    }
   ],
   "source": [
    "# taking look at each individual outlier\n",
    "df_clean[df_clean.age > 100].member_birth_year.value_counts()"
   ]
  },
  {
   "cell_type": "markdown",
   "metadata": {},
   "source": [
    "### Discuss the distribution(s) of your variable(s) of interest. Were there any unusual points? Did you need to perform any transformations?\n",
    "\n",
    "> The duration_trip was skweed and had many ponts; a scale transformation was requred. Most points were under 25 min.\n",
    ">\n",
    "> The Months of each trip was not really surprising, most trip took place during summer and warmer weather in general and far less during colder seasons.\n",
    ">\n",
    "> The days of the week had more trip than weekends, weekdays had a close distribution, but it's clear that after the weakend the number of trip increased slowly to it's peek on Tuesday.\n",
    "> \n",
    "> Age had some problems with outliers, but moving a way from this, the boxplot and histogram seem to be fair enough. Most points were between 35 to 45 years. Log scale was needed to produce the correct result due to the large number of points.\n",
    "\n",
    "### Of the features you investigated, were there any unusual distributions? Did you perform any operations on the data to tidy, adjust, or change the form of the data? If so, why did you do this?\n",
    "\n",
    "> Almost all of the variables were engineered. Why? because the data was not tidy and a lot of columns were lost such as month, weekdays, weekend, hours, and age. Due to poor data structure."
   ]
  },
  {
   "cell_type": "markdown",
   "metadata": {},
   "source": [
    "<a id='bi'></a>\n",
    "## Bivariate Exploration\n",
    "\n",
    "> I will further expolore the variables observer from the Univariate step and more."
   ]
  },
  {
   "cell_type": "markdown",
   "metadata": {},
   "source": [
    "Some intersting relationship.\n",
    "\n",
    "\n",
    "- Trip duration and Age\n",
    "- Time of trip (hour) and Days.\n",
    "- Member Gender and Trip duration\n",
    "- User Type and Member Gender\n",
    "- Member Gender and Months or Days.\n",
    "- \n",
    "- Month and Day\n"
   ]
  },
  {
   "cell_type": "code",
   "execution_count": 465,
   "metadata": {
    "scrolled": true
   },
   "outputs": [
    {
     "data": {
      "text/html": [
       "<div>\n",
       "<style scoped>\n",
       "    .dataframe tbody tr th:only-of-type {\n",
       "        vertical-align: middle;\n",
       "    }\n",
       "\n",
       "    .dataframe tbody tr th {\n",
       "        vertical-align: top;\n",
       "    }\n",
       "\n",
       "    .dataframe thead th {\n",
       "        text-align: right;\n",
       "    }\n",
       "</style>\n",
       "<table border=\"1\" class=\"dataframe\">\n",
       "  <thead>\n",
       "    <tr style=\"text-align: right;\">\n",
       "      <th></th>\n",
       "      <th>duration_sec</th>\n",
       "      <th>start_station_id</th>\n",
       "      <th>start_station_name</th>\n",
       "      <th>start_station_latitude</th>\n",
       "      <th>start_station_longitude</th>\n",
       "      <th>end_station_id</th>\n",
       "      <th>end_station_name</th>\n",
       "      <th>end_station_latitude</th>\n",
       "      <th>end_station_longitude</th>\n",
       "      <th>bike_id</th>\n",
       "      <th>user_type</th>\n",
       "      <th>member_birth_year</th>\n",
       "      <th>member_gender</th>\n",
       "      <th>trip_month</th>\n",
       "      <th>trip_day</th>\n",
       "      <th>trip_hour</th>\n",
       "      <th>age</th>\n",
       "    </tr>\n",
       "  </thead>\n",
       "  <tbody>\n",
       "    <tr>\n",
       "      <th>0</th>\n",
       "      <td>80110</td>\n",
       "      <td>74</td>\n",
       "      <td>Laguna St at Hayes St</td>\n",
       "      <td>37.776435</td>\n",
       "      <td>-122.426244</td>\n",
       "      <td>43</td>\n",
       "      <td>San Francisco Public Library (Grove St at Hyde...</td>\n",
       "      <td>37.778768</td>\n",
       "      <td>-122.415929</td>\n",
       "      <td>96</td>\n",
       "      <td>Customer</td>\n",
       "      <td>1987</td>\n",
       "      <td>Male</td>\n",
       "      <td>Dec</td>\n",
       "      <td>Sun</td>\n",
       "      <td>16</td>\n",
       "      <td>32</td>\n",
       "    </tr>\n",
       "    <tr>\n",
       "      <th>1</th>\n",
       "      <td>78800</td>\n",
       "      <td>284</td>\n",
       "      <td>Yerba Buena Center for the Arts (Howard St at ...</td>\n",
       "      <td>37.784872</td>\n",
       "      <td>-122.400876</td>\n",
       "      <td>96</td>\n",
       "      <td>Dolores St at 15th St</td>\n",
       "      <td>37.766210</td>\n",
       "      <td>-122.426614</td>\n",
       "      <td>88</td>\n",
       "      <td>Customer</td>\n",
       "      <td>1965</td>\n",
       "      <td>Female</td>\n",
       "      <td>Dec</td>\n",
       "      <td>Sun</td>\n",
       "      <td>15</td>\n",
       "      <td>54</td>\n",
       "    </tr>\n",
       "    <tr>\n",
       "      <th>4</th>\n",
       "      <td>43603</td>\n",
       "      <td>239</td>\n",
       "      <td>Bancroft Way at Telegraph Ave</td>\n",
       "      <td>37.868813</td>\n",
       "      <td>-122.258764</td>\n",
       "      <td>247</td>\n",
       "      <td>Fulton St at Bancroft Way</td>\n",
       "      <td>37.867789</td>\n",
       "      <td>-122.265896</td>\n",
       "      <td>3167</td>\n",
       "      <td>Subscriber</td>\n",
       "      <td>1997</td>\n",
       "      <td>Female</td>\n",
       "      <td>Dec</td>\n",
       "      <td>Sun</td>\n",
       "      <td>14</td>\n",
       "      <td>22</td>\n",
       "    </tr>\n",
       "  </tbody>\n",
       "</table>\n",
       "</div>"
      ],
      "text/plain": [
       "   duration_sec start_station_id  \\\n",
       "0         80110               74   \n",
       "1         78800              284   \n",
       "4         43603              239   \n",
       "\n",
       "                                  start_station_name  start_station_latitude  \\\n",
       "0                              Laguna St at Hayes St               37.776435   \n",
       "1  Yerba Buena Center for the Arts (Howard St at ...               37.784872   \n",
       "4                      Bancroft Way at Telegraph Ave               37.868813   \n",
       "\n",
       "   start_station_longitude end_station_id  \\\n",
       "0              -122.426244             43   \n",
       "1              -122.400876             96   \n",
       "4              -122.258764            247   \n",
       "\n",
       "                                    end_station_name  end_station_latitude  \\\n",
       "0  San Francisco Public Library (Grove St at Hyde...             37.778768   \n",
       "1                              Dolores St at 15th St             37.766210   \n",
       "4                          Fulton St at Bancroft Way             37.867789   \n",
       "\n",
       "   end_station_longitude bike_id   user_type  member_birth_year member_gender  \\\n",
       "0            -122.415929      96    Customer               1987          Male   \n",
       "1            -122.426614      88    Customer               1965        Female   \n",
       "4            -122.265896    3167  Subscriber               1997        Female   \n",
       "\n",
       "  trip_month trip_day trip_hour  age  \n",
       "0        Dec      Sun        16   32  \n",
       "1        Dec      Sun        15   54  \n",
       "4        Dec      Sun        14   22  "
      ]
     },
     "execution_count": 465,
     "metadata": {},
     "output_type": "execute_result"
    }
   ],
   "source": [
    "df_clean.head(3)"
   ]
  },
  {
   "cell_type": "markdown",
   "metadata": {},
   "source": [
    "######  AGE and Trip Duration\n",
    "In comparing the Age with Trip Duration from the below figures, we have an inverse relationship between the two variable.\n",
    "duration trip decreases in general as age increses as excpected."
   ]
  },
  {
   "cell_type": "code",
   "execution_count": 466,
   "metadata": {},
   "outputs": [],
   "source": [
    "numeric_vars = ['duration_sec', 'age']"
   ]
  },
  {
   "cell_type": "code",
   "execution_count": 467,
   "metadata": {},
   "outputs": [
    {
     "data": {
      "image/png": "[encoded data removed]",
      "text/plain": [
       "<Figure size 576x360 with 2 Axes>"
      ]
     },
     "metadata": {
      "needs_background": "light"
     },
     "output_type": "display_data"
    }
   ],
   "source": [
    "# correlation plot -  a negative correlation \n",
    "# *code taking from the previos lesson 'case-study of dimond.\n",
    "plt.figure(figsize = [8, 5])\n",
    "sb.heatmap(df_clean[numeric_vars].corr(), annot = True, fmt = '.3f',cmap = 'vlag_r', center = 0)\n",
    "plt.show()"
   ]
  },
  {
   "cell_type": "code",
   "execution_count": 468,
   "metadata": {
    "scrolled": true
   },
   "outputs": [
    {
     "data": {
      "image/png": "[encoded data removed]",
      "text/plain": [
       "<Figure size 432x288 with 1 Axes>"
      ]
     },
     "metadata": {
      "needs_background": "light"
     },
     "output_type": "display_data"
    }
   ],
   "source": [
    "# a scatter plot.\n",
    "plt.scatter(data=df_clean, x='age', y='duration_sec', alpha=1/20)\n",
    "plt.xlim(20, 95) ## for better and focused result.\n",
    "plt.xlabel('Age')\n",
    "plt.ylabel('Trip Duration (sec)');"
   ]
  },
  {
   "cell_type": "markdown",
   "metadata": {},
   "source": [
    "##### Looking at the Member gender.\n",
    "- Male seem to the higher trip duration, but this need to be investigated more. (propration)"
   ]
  },
  {
   "cell_type": "code",
   "execution_count": 469,
   "metadata": {},
   "outputs": [
    {
     "data": {
      "image/png": "[encoded data removed]",
      "text/plain": [
       "<Figure size 360x360 with 1 Axes>"
      ]
     },
     "metadata": {
      "needs_background": "light"
     },
     "output_type": "display_data"
    }
   ],
   "source": [
    "sb.catplot(x=\"member_gender\", y=\"duration_sec\", data=df_clean)\n",
    "plt.xlabel('Trip Duration')\n",
    "plt.ylabel('Member Gender');"
   ]
  },
  {
   "cell_type": "code",
   "execution_count": 470,
   "metadata": {},
   "outputs": [
    {
     "data": {
      "text/plain": [
       "Text(0, 0.5, 'Number of Trips')"
      ]
     },
     "execution_count": 470,
     "metadata": {},
     "output_type": "execute_result"
    },
    {
     "data": {
      "image/png": "[encoded data removed]",
      "text/plain": [
       "<Figure size 432x288 with 1 Axes>"
      ]
     },
     "metadata": {
      "needs_background": "light"
     },
     "output_type": "display_data"
    }
   ],
   "source": [
    "month_order = list(reversed(df_clean.trip_month.unique()))\n",
    "  \n",
    "sb.countplot(data=df_clean, x='trip_month', hue='member_gender', order= month_order)\n",
    "plt.xlabel('Months')\n",
    "plt.ylabel('Number of Trips')"
   ]
  },
  {
   "cell_type": "code",
   "execution_count": 471,
   "metadata": {},
   "outputs": [
    {
     "name": "stderr",
     "output_type": "stream",
     "text": [
      "C:\\Users\\Lenovo\\Anaconda3\\lib\\site-packages\\seaborn\\axisgrid.py:715: UserWarning: Using the countplot function without specifying `order` is likely to produce an incorrect plot.\n",
      "  warnings.warn(warning)\n"
     ]
    },
    {
     "data": {
      "image/png": "[encoded data removed]",
      "text/plain": [
       "<Figure size 1080x360 with 3 Axes>"
      ]
     },
     "metadata": {
      "needs_background": "light"
     },
     "output_type": "display_data"
    }
   ],
   "source": [
    "#sb.catplot(col='member_gender', x='trip_month',kind='count', data=df_clean, color=sb.color_palette()[0]);\n",
    "month_order = list(reversed(df_clean.trip_month.unique()))\n",
    "g = sb.FacetGrid(data=df_clean,col='member_gender', col_wrap = 3, height = 5, sharey=False)\n",
    "g.map(sb.countplot, 'trip_day')\n",
    "\n",
    "for i in range(3):\n",
    "    g.axes[i].set_xlabel('Days')\n",
    "    g.axes[i].set_ylabel('Number of Trips')\n",
    "\n",
    "plt.show();"
   ]
  },
  {
   "cell_type": "markdown",
   "metadata": {},
   "source": [
    "#### User Type with member gender"
   ]
  },
  {
   "cell_type": "code",
   "execution_count": 472,
   "metadata": {},
   "outputs": [
    {
     "data": {
      "text/plain": [
       "<matplotlib.axes._subplots.AxesSubplot at 0x12297409080>"
      ]
     },
     "execution_count": 472,
     "metadata": {},
     "output_type": "execute_result"
    },
    {
     "data": {
      "image/png": "[encoded data removed]",
      "text/plain": [
       "<Figure size 432x288 with 1 Axes>"
      ]
     },
     "metadata": {
      "needs_background": "light"
     },
     "output_type": "display_data"
    }
   ],
   "source": [
    "sb.countplot(data=df_clean, x='user_type', hue='member_gender')"
   ]
  },
  {
   "cell_type": "markdown",
   "metadata": {},
   "source": [
    "##### Time of the trip in diffrent days between Subscribers and Customers.\n",
    "- 10 to 17  is the obvious difference in both groups.\n",
    "- Subscriber seem to unimodal\n",
    "- Both model are left skewwed as excpected (midnight to dawn)"
   ]
  },
  {
   "cell_type": "code",
   "execution_count": 473,
   "metadata": {
    "scrolled": true
   },
   "outputs": [
    {
     "data": {
      "image/png": "[encoded data removed]",
      "text/plain": [
       "<Figure size 1152x288 with 2 Axes>"
      ]
     },
     "metadata": {
      "needs_background": "light"
     },
     "output_type": "display_data"
    }
   ],
   "source": [
    "g = sb.FacetGrid(data=df_clean,col='user_type', col_wrap = 2, height = 4, aspect=2, sharey=False)\n",
    "g.map(sb.countplot, 'trip_hour')\n",
    "for i in range(2):\n",
    "    g.axes[i].set_xlabel('Hour of th trip')\n",
    "    g.axes[i].set_ylabel('Number of Trips')"
   ]
  },
  {
   "cell_type": "markdown",
   "metadata": {},
   "source": [
    "#### Other variables:\n",
    "Station and user type"
   ]
  },
  {
   "cell_type": "code",
   "execution_count": 474,
   "metadata": {},
   "outputs": [
    {
     "data": {
      "text/html": [
       "<div>\n",
       "<style scoped>\n",
       "    .dataframe tbody tr th:only-of-type {\n",
       "        vertical-align: middle;\n",
       "    }\n",
       "\n",
       "    .dataframe tbody tr th {\n",
       "        vertical-align: top;\n",
       "    }\n",
       "\n",
       "    .dataframe thead th {\n",
       "        text-align: right;\n",
       "    }\n",
       "</style>\n",
       "<table border=\"1\" class=\"dataframe\">\n",
       "  <thead>\n",
       "    <tr style=\"text-align: right;\">\n",
       "      <th></th>\n",
       "      <th>duration_sec</th>\n",
       "      <th>start_station_id</th>\n",
       "      <th>start_station_name</th>\n",
       "      <th>start_station_latitude</th>\n",
       "      <th>start_station_longitude</th>\n",
       "      <th>end_station_id</th>\n",
       "      <th>end_station_name</th>\n",
       "      <th>end_station_latitude</th>\n",
       "      <th>end_station_longitude</th>\n",
       "      <th>bike_id</th>\n",
       "      <th>user_type</th>\n",
       "      <th>member_birth_year</th>\n",
       "      <th>member_gender</th>\n",
       "      <th>trip_month</th>\n",
       "      <th>trip_day</th>\n",
       "      <th>trip_hour</th>\n",
       "      <th>age</th>\n",
       "    </tr>\n",
       "  </thead>\n",
       "  <tbody>\n",
       "    <tr>\n",
       "      <th>0</th>\n",
       "      <td>80110</td>\n",
       "      <td>74</td>\n",
       "      <td>Laguna St at Hayes St</td>\n",
       "      <td>37.776435</td>\n",
       "      <td>-122.426244</td>\n",
       "      <td>43</td>\n",
       "      <td>San Francisco Public Library (Grove St at Hyde...</td>\n",
       "      <td>37.778768</td>\n",
       "      <td>-122.415929</td>\n",
       "      <td>96</td>\n",
       "      <td>Customer</td>\n",
       "      <td>1987</td>\n",
       "      <td>Male</td>\n",
       "      <td>Dec</td>\n",
       "      <td>Sun</td>\n",
       "      <td>16</td>\n",
       "      <td>32</td>\n",
       "    </tr>\n",
       "    <tr>\n",
       "      <th>1</th>\n",
       "      <td>78800</td>\n",
       "      <td>284</td>\n",
       "      <td>Yerba Buena Center for the Arts (Howard St at ...</td>\n",
       "      <td>37.784872</td>\n",
       "      <td>-122.400876</td>\n",
       "      <td>96</td>\n",
       "      <td>Dolores St at 15th St</td>\n",
       "      <td>37.766210</td>\n",
       "      <td>-122.426614</td>\n",
       "      <td>88</td>\n",
       "      <td>Customer</td>\n",
       "      <td>1965</td>\n",
       "      <td>Female</td>\n",
       "      <td>Dec</td>\n",
       "      <td>Sun</td>\n",
       "      <td>15</td>\n",
       "      <td>54</td>\n",
       "    </tr>\n",
       "    <tr>\n",
       "      <th>4</th>\n",
       "      <td>43603</td>\n",
       "      <td>239</td>\n",
       "      <td>Bancroft Way at Telegraph Ave</td>\n",
       "      <td>37.868813</td>\n",
       "      <td>-122.258764</td>\n",
       "      <td>247</td>\n",
       "      <td>Fulton St at Bancroft Way</td>\n",
       "      <td>37.867789</td>\n",
       "      <td>-122.265896</td>\n",
       "      <td>3167</td>\n",
       "      <td>Subscriber</td>\n",
       "      <td>1997</td>\n",
       "      <td>Female</td>\n",
       "      <td>Dec</td>\n",
       "      <td>Sun</td>\n",
       "      <td>14</td>\n",
       "      <td>22</td>\n",
       "    </tr>\n",
       "    <tr>\n",
       "      <th>6</th>\n",
       "      <td>4507</td>\n",
       "      <td>259</td>\n",
       "      <td>Addison St at Fourth St</td>\n",
       "      <td>37.866249</td>\n",
       "      <td>-122.299371</td>\n",
       "      <td>259</td>\n",
       "      <td>Addison St at Fourth St</td>\n",
       "      <td>37.866249</td>\n",
       "      <td>-122.299371</td>\n",
       "      <td>3539</td>\n",
       "      <td>Customer</td>\n",
       "      <td>1991</td>\n",
       "      <td>Female</td>\n",
       "      <td>Dec</td>\n",
       "      <td>Sun</td>\n",
       "      <td>23</td>\n",
       "      <td>28</td>\n",
       "    </tr>\n",
       "    <tr>\n",
       "      <th>12</th>\n",
       "      <td>2183</td>\n",
       "      <td>67</td>\n",
       "      <td>San Francisco Caltrain Station 2  (Townsend St...</td>\n",
       "      <td>37.776639</td>\n",
       "      <td>-122.395526</td>\n",
       "      <td>24</td>\n",
       "      <td>Spear St at Folsom St</td>\n",
       "      <td>37.789677</td>\n",
       "      <td>-122.390428</td>\n",
       "      <td>2311</td>\n",
       "      <td>Subscriber</td>\n",
       "      <td>1990</td>\n",
       "      <td>Male</td>\n",
       "      <td>Dec</td>\n",
       "      <td>Sun</td>\n",
       "      <td>23</td>\n",
       "      <td>29</td>\n",
       "    </tr>\n",
       "  </tbody>\n",
       "</table>\n",
       "</div>"
      ],
      "text/plain": [
       "    duration_sec start_station_id  \\\n",
       "0          80110               74   \n",
       "1          78800              284   \n",
       "4          43603              239   \n",
       "6           4507              259   \n",
       "12          2183               67   \n",
       "\n",
       "                                   start_station_name  start_station_latitude  \\\n",
       "0                               Laguna St at Hayes St               37.776435   \n",
       "1   Yerba Buena Center for the Arts (Howard St at ...               37.784872   \n",
       "4                       Bancroft Way at Telegraph Ave               37.868813   \n",
       "6                             Addison St at Fourth St               37.866249   \n",
       "12  San Francisco Caltrain Station 2  (Townsend St...               37.776639   \n",
       "\n",
       "    start_station_longitude end_station_id  \\\n",
       "0               -122.426244             43   \n",
       "1               -122.400876             96   \n",
       "4               -122.258764            247   \n",
       "6               -122.299371            259   \n",
       "12              -122.395526             24   \n",
       "\n",
       "                                     end_station_name  end_station_latitude  \\\n",
       "0   San Francisco Public Library (Grove St at Hyde...             37.778768   \n",
       "1                               Dolores St at 15th St             37.766210   \n",
       "4                           Fulton St at Bancroft Way             37.867789   \n",
       "6                             Addison St at Fourth St             37.866249   \n",
       "12                              Spear St at Folsom St             37.789677   \n",
       "\n",
       "    end_station_longitude bike_id   user_type  member_birth_year  \\\n",
       "0             -122.415929      96    Customer               1987   \n",
       "1             -122.426614      88    Customer               1965   \n",
       "4             -122.265896    3167  Subscriber               1997   \n",
       "6             -122.299371    3539    Customer               1991   \n",
       "12            -122.390428    2311  Subscriber               1990   \n",
       "\n",
       "   member_gender trip_month trip_day trip_hour  age  \n",
       "0           Male        Dec      Sun        16   32  \n",
       "1         Female        Dec      Sun        15   54  \n",
       "4         Female        Dec      Sun        14   22  \n",
       "6         Female        Dec      Sun        23   28  \n",
       "12          Male        Dec      Sun        23   29  "
      ]
     },
     "execution_count": 474,
     "metadata": {},
     "output_type": "execute_result"
    }
   ],
   "source": [
    "# stations\n",
    "df_clean.head()"
   ]
  },
  {
   "cell_type": "code",
   "execution_count": 475,
   "metadata": {},
   "outputs": [],
   "source": [
    "df_sub = df_clean.query('user_type == \"Subscriber\"').start_station_name.value_counts()\n",
    "df_cus = df_clean.query('user_type == \"Customer\"').start_station_name.value_counts()\n",
    "\n",
    "freq_station = df_clean.start_station_name.value_counts()\n",
    "y = freq_station.values[0:20] \n",
    "x = freq_station.index[0:20] "
   ]
  },
  {
   "cell_type": "code",
   "execution_count": 476,
   "metadata": {
    "scrolled": true
   },
   "outputs": [
    {
     "data": {
      "image/png": "[encoded data removed]",
      "text/plain": [
       "<Figure size 720x720 with 1 Axes>"
      ]
     },
     "metadata": {
      "needs_background": "light"
     },
     "output_type": "display_data"
    }
   ],
   "source": [
    "x_sub = df_sub.index[0:20] \n",
    "y_sub = df_sub.values[0:20] \n",
    "\n",
    "x_cus = df_cus.index[0:20] \n",
    "y_cus = df_cus.values[0:20] \n",
    "\n",
    "plt.figure(figsize = [10, 10]) # larger figure size for subplots\n",
    "\n",
    "plt.subplot(2,1,1)\n",
    "plt.barh(x,df_sub[x],color='lightblue')\n",
    "plt.yticks(fontsize=12)\n",
    "plt.title('Subscriber & Top 20 Stations.')\n",
    "plt.xlabel('Number of trips taking from this station')\n",
    "plt.ylabel('Station Name');"
   ]
  },
  {
   "cell_type": "code",
   "execution_count": 477,
   "metadata": {},
   "outputs": [
    {
     "data": {
      "image/png": "[encoded data removed]",
      "text/plain": [
       "<Figure size 720x720 with 1 Axes>"
      ]
     },
     "metadata": {
      "needs_background": "light"
     },
     "output_type": "display_data"
    }
   ],
   "source": [
    "plt.figure(figsize = [10, 10]) # larger figure size for subplots\n",
    "plt.subplot(2, 1, 2)\n",
    "plt.barh(x,df_cus[x],color='lightgreen')\n",
    "plt.yticks(fontsize=12)\n",
    "plt.title('Customer & Top 20 Stations.')\n",
    "plt.xlabel('Number of trips taking from this station')\n",
    "plt.ylabel('Station Name');"
   ]
  },
  {
   "cell_type": "markdown",
   "metadata": {},
   "source": [
    "### Talk about some of the relationships you observed in this part of the investigation. How did the feature(s) of interest vary with other features in the dataset?\n",
    "\n",
    "> Age and Trip duration: In comparing the Age with Trip Duration from the below figures, we have an inverse relationship between the two variable. duration trip decreases in general as age increses as excpected.\n",
    ">\n",
    "> Member Gender with Trip duartion, days, and months: Male gender is most frequent. Male seem to be slightly higher trip duartion than female. The disturbution of trips in difrent months is the same an all genders, lower trps in colder months. comparing the days of the trip, lower trip in weekends and higher in weekdays in all genders.\n",
    ">\n",
    "> Time of the trip (hour) with user type: Subscriber seem to be Unimodal it has a lower trips from 10 to 17 o'clock. The Customer in these hours have more trips. Both type are left skewed. \n",
    "### Did you observe any interesting relationships between the other features (not the main feature(s) of interest)?\n",
    "\n",
    "> In comparing the customer type and the most frequent start station of all trips. There was no direct relation between the most frequent station and the customer."
   ]
  },
  {
   "cell_type": "markdown",
   "metadata": {},
   "source": [
    "<a id='wi'></a>\n",
    "## Multivariate Exploration\n",
    "\n",
    "> In this section I will try imporving the result of the previos figures by adding more variables to the equation."
   ]
  },
  {
   "cell_type": "markdown",
   "metadata": {},
   "source": [
    "##### Member gender and user trips in diffrent months."
   ]
  },
  {
   "cell_type": "code",
   "execution_count": 492,
   "metadata": {
    "scrolled": true
   },
   "outputs": [
    {
     "data": {
      "text/plain": [
       "<seaborn.axisgrid.FacetGrid at 0x122554a49e8>"
      ]
     },
     "execution_count": 492,
     "metadata": {},
     "output_type": "execute_result"
    },
    {
     "data": {
      "image/png": "[encoded data removed]",
      "text/plain": [
       "<Figure size 1169.12x360 with 3 Axes>"
      ]
     },
     "metadata": {
      "needs_background": "light"
     },
     "output_type": "display_data"
    }
   ],
   "source": [
    "sb.catplot(data=df_clean, x='trip_month', col='member_gender',hue='user_type',kind='count', order= month_order, sharey=False)"
   ]
  },
  {
   "cell_type": "markdown",
   "metadata": {},
   "source": [
    "#### Trip duartion across user type in different months."
   ]
  },
  {
   "cell_type": "code",
   "execution_count": 479,
   "metadata": {
    "scrolled": true
   },
   "outputs": [
    {
     "data": {
      "image/png": "[encoded data removed]",
      "text/plain": [
       "<Figure size 576x432 with 1 Axes>"
      ]
     },
     "metadata": {
      "needs_background": "light"
     },
     "output_type": "display_data"
    }
   ],
   "source": [
    "fig = plt.figure(figsize = [8,6])\n",
    "sb.pointplot(data = df_clean, x = 'trip_month', y = 'duration_sec', hue = 'user_type', palette = 'Reds', ci=None)\n",
    "plt.title('Trip duartion across user type in different months')\n",
    "plt.ylabel('Mean Trip Dduration (sec)')\n",
    "plt.xlabel('Months')\n",
    "plt.show();"
   ]
  },
  {
   "cell_type": "markdown",
   "metadata": {},
   "source": [
    "##### Trib duration of each day for member gender.\n",
    "Females in general tend to have much longer trips."
   ]
  },
  {
   "cell_type": "code",
   "execution_count": 480,
   "metadata": {
    "scrolled": true
   },
   "outputs": [
    {
     "data": {
      "image/png": "[encoded data removed]",
      "text/plain": [
       "<Figure size 576x432 with 1 Axes>"
      ]
     },
     "metadata": {
      "needs_background": "light"
     },
     "output_type": "display_data"
    }
   ],
   "source": [
    "fig = plt.figure(figsize = [8,6])\n",
    "sb.pointplot(data = df_clean, x = 'trip_day', y = 'duration_sec', hue = 'member_gender', palette = 'Blues', ci=None)\n",
    "plt.title('Trip duartion across user type in different days')\n",
    "plt.ylabel('Mean Trip Dduration (sec)')\n",
    "plt.xlabel('Days')\n",
    "plt.show();"
   ]
  },
  {
   "cell_type": "markdown",
   "metadata": {},
   "source": [
    "#### Days and hours with user type\n",
    " This is a good oppertinity to create heatmap."
   ]
  },
  {
   "cell_type": "code",
   "execution_count": 481,
   "metadata": {},
   "outputs": [],
   "source": [
    "df_sub = df_clean.query('user_type == \"Subscriber\"').groupby(['trip_day','trip_hour'], \n",
    "                                                           as_index=False).size().reset_index(name='')\n",
    "df_cus = df_clean.query('user_type == \"Customer\"').groupby(['trip_day','trip_hour'], \n",
    "                                                           as_index=False).size().reset_index(name='')"
   ]
  },
  {
   "cell_type": "code",
   "execution_count": 482,
   "metadata": {
    "scrolled": true
   },
   "outputs": [
    {
     "data": {
      "text/plain": [
       "Text(0.5, 365.50909090909096, 'Hour of th trip')"
      ]
     },
     "execution_count": 482,
     "metadata": {},
     "output_type": "execute_result"
    },
    {
     "data": {
      "image/png": "[encoded data removed]",
      "text/plain": [
       "<Figure size 1080x720 with 4 Axes>"
      ]
     },
     "metadata": {
      "needs_background": "light"
     },
     "output_type": "display_data"
    }
   ],
   "source": [
    "plt.figure(figsize = [15, 10]) # larger figure size for subplots\n",
    "\n",
    "\n",
    "plt.subplot(2,2,1)\n",
    "sb.heatmap(df_sub.pivot('trip_day','trip_hour'))\n",
    "plt.title('Subscriber')\n",
    "plt.ylabel('Days')\n",
    "plt.xlabel('Hour of th trip')\n",
    "\n",
    "plt.subplot(2,2,2) \n",
    "sb.heatmap(df_cus.pivot('trip_day','trip_hour'))\n",
    "plt.title('Customer')\n",
    "plt.ylabel('Days')\n",
    "plt.xlabel('Hour of th trip')"
   ]
  },
  {
   "cell_type": "markdown",
   "metadata": {},
   "source": [
    "#### Trip duartion across user type in different hours in the day."
   ]
  },
  {
   "cell_type": "code",
   "execution_count": 493,
   "metadata": {},
   "outputs": [
    {
     "data": {
      "text/plain": [
       "Text(0.5, 21.706249999999983, 'Hour of the trip')"
      ]
     },
     "execution_count": 493,
     "metadata": {},
     "output_type": "execute_result"
    },
    {
     "data": {
      "image/png": "[encoded data removed]",
      "text/plain": [
       "<Figure size 522.375x432 with 2 Axes>"
      ]
     },
     "metadata": {
      "needs_background": "light"
     },
     "output_type": "display_data"
    }
   ],
   "source": [
    "sb.catplot(data=df_clean,x='trip_hour',col='user_type', \n",
    "           hue='member_gender', col_wrap = 1, \n",
    "           height = 3, aspect=2, \n",
    "           sharey=False, kind='count')\n",
    "plt.xlabel('Hour of the trip')"
   ]
  },
  {
   "cell_type": "markdown",
   "metadata": {},
   "source": [
    "### Talk about some of the relationships you observed in this part of the investigation. Were there features that strengthened each other in terms of looking at your feature(s) of interest?\n",
    "\n",
    "> When looking at member gender and user type across month of the trip we dont really see any pattern with diffrent gender and user type. Each gender does not have preferd month.\n",
    ">\n",
    "> Trip Duration in diffrent months taking into account the user type, now we can see the Customer has much higher trip duration in average.\n",
    ">\n",
    "> Trip duartion of each day for difrfrent memeber gender, by adding the 'member gender' in the equetion we can now observe the average trip duration of each gender in diffrent days.\n",
    ">\n",
    "> Bulding a heatmap to observe the frequent hours in each day made by each user type. \n",
    "\n",
    "### Were there any interesting or surprising interactions between features?\n",
    "\n",
    "> It was not clear at first but after bulding a pointplot we can see that female members has much higher trip duration than any other genders. \n",
    "> The customer has higher trip duration than subscriber in avarage.\n",
    "> Looking at the heatmap the subscriber is far less active than the customer whcich was a surprise to me."
   ]
  },
  {
   "cell_type": "code",
   "execution_count": 496,
   "metadata": {},
   "outputs": [],
   "source": [
    "df_clean.to_csv('df_clean.csv', index=False)"
   ]
  },
  {
   "cell_type": "code",
   "execution_count": null,
   "metadata": {},
   "outputs": [],
   "source": []
  }
 ],
 "metadata": {
  "kernelspec": {
   "display_name": "Python 3",
   "language": "python",
   "name": "python3"
  },
  "language_info": {
   "codemirror_mode": {
    "name": "ipython",
    "version": 3
   },
   "file_extension": ".py",
   "mimetype": "text/x-python",
   "name": "python",
   "nbconvert_exporter": "python",
   "pygments_lexer": "ipython3",
   "version": "3.7.3"
  }
 },
 "nbformat": 4,
 "nbformat_minor": 2
}
